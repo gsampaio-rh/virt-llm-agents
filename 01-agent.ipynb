{
 "cells": [
  {
   "cell_type": "markdown",
   "metadata": {},
   "source": [
    "# Building a Simple Agent in Python\n",
    "\n",
    "## Introduction\n",
    "\n",
    "Welcome to this tutorial on building a simple agent in Python! In this notebook, we will walk through the process of creating a basic agent that can perform tasks autonomously using a model. This is a beginner-friendly tutorial, and while a basic understanding of Python will help, no prior knowledge of agents or state management is required.\n",
    "\n",
    "By the end of this tutorial, you'll understand how to build your own simple agent that can handle tasks using state management.\n",
    "\n",
    "## Setup\n",
    "\n",
    "### Installing Required Packages\n",
    "\n",
    "Before we begin, let’s install the necessary Python libraries. Run the following command:"
   ]
  },
  {
   "cell_type": "code",
   "execution_count": null,
   "metadata": {},
   "outputs": [],
   "source": [
    "%pip install requests jsonschema tenacity"
   ]
  },
  {
   "cell_type": "markdown",
   "metadata": {},
   "source": [
    "These packages are used for:\n",
    "\n",
    "- **requests:** Making HTTP requests to interact with models.\n",
    "- **jsonschema:** Validating the structure of the agent's output.\n",
    "- **tenacity:** Handling retries in case of errors when communicating with the model."
   ]
  },
  {
   "cell_type": "markdown",
   "metadata": {},
   "source": [
    "### Environment Setup\n",
    "\n",
    "After installing the packages, we should verify that everything is set up correctly. Run the following code to check the installation:"
   ]
  },
  {
   "cell_type": "code",
   "execution_count": null,
   "metadata": {},
   "outputs": [],
   "source": [
    "import requests\n",
    "import jsonschema\n",
    "import tenacity"
   ]
  },
  {
   "cell_type": "markdown",
   "metadata": {},
   "source": [
    "## Understanding the Basics\n",
    "\n",
    "### What is an Agent?\n",
    "\n",
    "In simple terms, an agent is a program that can perform tasks autonomously based on a set of instructions. Think of an agent as a virtual assistant that can handle specific jobs for you. For example, in the context of data science or software development, an agent might process data, make decisions based on that data, and then carry out actions like sending requests or updating records.\n",
    "\n",
    "Agents are often designed to work without constant human intervention. Once you give them the initial instructions, they can execute tasks on their own, making them very useful in automating repetitive or complex processes.\n",
    "\n",
    "### State Management\n",
    "\n",
    "State management is an essential concept when working with agents. The \"state\" of an agent refers to its current condition or the information it has at any given time. For instance, if an agent is working through a list of tasks, its state might include which tasks have been completed, which are in progress, and which are yet to be started.\n",
    "\n",
    "Managing this state is crucial because it allows the agent to keep track of what it has done and what it needs to do next. Without proper state management, an agent might lose track of its progress, repeat tasks, or skip important steps. In this notebook, you'll learn how to manage an agent's state effectively, ensuring that it operates smoothly and efficiently."
   ]
  },
  {
   "cell_type": "markdown",
   "metadata": {},
   "source": [
    "## Step-by-Step Implementation\n",
    "\n",
    "### 1. Building Blocks\n",
    "\n",
    "In this section, we'll start by building the basic components that our agent will use. These building blocks will form the foundation of our agent, enabling it to keep track of time, store data, and interact with a model.\n",
    "\n",
    "#### Datetime Function\n",
    "\n",
    "The first building block we'll create is a simple function to get the current time. This is important because our agent might need to timestamp certain actions or events. Let's write a function that returns the current date and time in UTC format:\n"
   ]
  },
  {
   "cell_type": "code",
   "execution_count": null,
   "metadata": {},
   "outputs": [],
   "source": [
    "from datetime import datetime, timezone\n",
    "\n",
    "\n",
    "def get_current_utc_datetime():\n",
    "    now_utc = datetime.now(timezone.utc)\n",
    "    return now_utc.strftime(\"%Y-%m-%d %H:%M:%S.%f UTC\")[:-3]\n",
    "\n",
    "\n",
    "# Example usage:\n",
    "print(\"Current UTC datetime:\", get_current_utc_datetime())"
   ]
  },
  {
   "cell_type": "markdown",
   "metadata": {},
   "source": [
    "This function gets the current time in Coordinated Universal Time (UTC) and formats it as a string, which can be easily used later in the agent's tasks."
   ]
  },
  {
   "cell_type": "markdown",
   "metadata": {},
   "source": [
    "### 2. Configuring a Simple Model\n",
    "Now that we have the basic building blocks, we'll move on to configuring a model that our agent can use to perform its tasks. This model will process inputs (like a user request) and generate outputs (like a task list).\n",
    "\n",
    "### Model Configuration\n",
    "We'll start by setting up a simple configuration for the model. This configuration will include details like the model's endpoint, temperature, and other parameters. Let's create a function to handle this:"
   ]
  },
  {
   "cell_type": "code",
   "execution_count": null,
   "metadata": {},
   "outputs": [],
   "source": [
    "def setup_ollama_model(\n",
    "    model, temperature=0.0, top_p=1.0, top_k=0, repetition_penalty=1.0, stop=None\n",
    "):\n",
    "    return {\n",
    "        \"model_endpoint\": \"http://localhost:11434/api/generate\",\n",
    "        \"model\": model,\n",
    "        \"temperature\": temperature,\n",
    "        \"top_p\": top_p,\n",
    "        \"top_k\": top_k,\n",
    "        \"repetition_penalty\": repetition_penalty,\n",
    "        \"headers\": {\"Content-Type\": \"application/json\"},\n",
    "        \"stop\": stop,\n",
    "    }\n",
    "\n",
    "\n",
    "# Example configuration:\n",
    "ollama_config = setup_ollama_model(model=\"llama3:instruct\")\n",
    "print(\"Model configuration:\", ollama_config)"
   ]
  },
  {
   "cell_type": "markdown",
   "metadata": {},
   "source": [
    "This function returns a dictionary with the model's configuration. You can adjust the parameters based on the specific model you're using or the task requirements.\n",
    "\n",
    "### Preparing a Request\n",
    "With the model configured, the next step is to prepare a request that the agent can send to the model. This request will include the user's input, the system's instructions, and any other necessary information. Let's write a function to prepare this request:"
   ]
  },
  {
   "cell_type": "code",
   "execution_count": null,
   "metadata": {},
   "outputs": [],
   "source": [
    "from typing import Dict, Any\n",
    "\n",
    "def prepare_payload(\n",
    "    user_prompt: str,\n",
    "    sys_prompt: str,\n",
    "    stream: bool = False,\n",
    "    config: Dict[str, Any] = ollama_config,\n",
    ") -> Dict[str, Any]:\n",
    "    return {\n",
    "        \"model\": config.get(\"model\"),\n",
    "        \"format\": \"json\",\n",
    "        \"prompt\": user_prompt,\n",
    "        \"system\": sys_prompt,\n",
    "        \"stream\": stream,\n",
    "        \"temperature\": config.get(\"temperature\", 0.0),\n",
    "        \"top_p\": config.get(\"top_p\", 1.0),\n",
    "        \"top_k\": config.get(\"top_k\", 0),\n",
    "        \"repetition_penalty\": config.get(\"repetition_penalty\", 1.0),\n",
    "        \"stop\": config.get(\"stop\"),\n",
    "    }"
   ]
  },
  {
   "cell_type": "code",
   "execution_count": null,
   "metadata": {},
   "outputs": [],
   "source": [
    "DEFAULT_SYS_PM_PROMPT = \"\"\"\n",
    "system\n",
    "\n",
    "Environment: ipython  \n",
    "Cutoff Knowledge Date: December 2023  \n",
    "\n",
    "You are a **Task Management Agent**. Your job is to break down objectives into a clear and actionable task list. Each task must include a unique identifier, a name, a description, and a status. The status of each task must be one of the following: \"pending\", \"in_progress\", \"completed\", or \"failed\".\n",
    "\n",
    "---\n",
    "\n",
    "### Guidelines:\n",
    "\n",
    "1. **Task List Structure:** Ensure that each task has the following properties:\n",
    "   - `task_id`: A unique string identifier for the task.\n",
    "   - `task_name`: A brief string that names the task.\n",
    "   - `task_description`: A string that provides a detailed description of the task.\n",
    "   - `status`: A string that represents the current status of the task. This must be one of the following: \"pending\", \"in_progress\", \"completed\", or \"failed\".\n",
    "\n",
    "2. **No Additional Fields:** The task should only contain the properties listed above (`task_id`, `task_name`, `task_description`, and `status`). Do not include any additional properties.\n",
    "\n",
    "3. **Task List Format:** The final output must be a JSON object with a single key `\"tasks\"`, which maps to an array of task objects. Each task object must follow the structure defined above.\n",
    "\n",
    "---\n",
    "\n",
    "### Output Format Example:\n",
    "\n",
    "Your output should look like this:\n",
    "\n",
    "{{\n",
    "    \"tasks\": [\n",
    "        {{\n",
    "            \"task_id\": \"task_001\",\n",
    "            \"task_name\": \"Research and Choose Airplane Model\",\n",
    "            \"task_description\": \"Select the most suitable airplane model for the project.\",\n",
    "            \"status\": \"pending\"\n",
    "        }},\n",
    "        {{\n",
    "            \"task_id\": \"task_002\",\n",
    "            \"task_name\": \"Order Airplane Components\",\n",
    "            \"task_description\": \"Order necessary airplane components according to the chosen model.\",\n",
    "            \"status\": \"pending\"\n",
    "        }},\n",
    "        {{\n",
    "            \"task_id\": \"task_003\",\n",
    "            \"task_name\": \"Assemble Airplane Frame\",\n",
    "            \"task_description\": \"Assemble the airplane frame according to the chosen model's specifications.\",\n",
    "            \"status\": \"pending\"\n",
    "        }},\n",
    "        {{\n",
    "            \"task_id\": \"task_004\",\n",
    "            \"task_name\": \"Install Engine and Avionics\",\n",
    "            \"task_description\": \"Install the engine and avionics system according to the chosen model's specifications.\",\n",
    "            \"status\": \"pending\"\n",
    "        }},\n",
    "        {{\n",
    "            \"task_id\": \"task_005\",\n",
    "            \"task_name\": \"Add Controls and Instrumentation\",\n",
    "            \"task_description\": \"Add controls and instrumentation according to the chosen model's specifications.\",\n",
    "            \"status\": \"pending\"\n",
    "        }},\n",
    "        {{\n",
    "            \"task_id\": \"task_006\",\n",
    "            \"task_name\": \"Final Assembly and Testing\",\n",
    "            \"task_description\": \"Perform final assembly and testing according to the chosen model's specifications.\",\n",
    "            \"status\": \"pending\"\n",
    "        }}\n",
    "    ]\n",
    "}}\n",
    "\n",
    "---\n",
    "\n",
    "### Key Points:\n",
    "- **Stick to the Structure:** Ensure each task has all the required properties and nothing else.\n",
    "- **Maintain JSON Format:** The output must be valid JSON, with no extra fields or missing required fields.\n",
    "\"\"\""
   ]
  },
  {
   "cell_type": "code",
   "execution_count": null,
   "metadata": {},
   "outputs": [],
   "source": [
    "# Example usage:\n",
    "payload = prepare_payload(\n",
    "    user_prompt=\"What tasks should I complete in order to make pasta?\",\n",
    "    sys_prompt=DEFAULT_SYS_PM_PROMPT.format(feedback=\"\"),\n",
    ")\n",
    "print(\"Prepared payload:\", payload)"
   ]
  },
  {
   "cell_type": "markdown",
   "metadata": {},
   "source": [
    "This function creates a dictionary representing the request that will be sent to the model. The request includes the user's prompt, system instructions, and the configuration parameters for the model."
   ]
  },
  {
   "cell_type": "markdown",
   "metadata": {},
   "source": [
    "### 3. Interacting with the Model\n",
    "Now that we have our model configured and a request prepared, let's demonstrate how to send this request to the model and process the response.\n",
    "\n",
    "### Sending a Request\n",
    "We'll start by writing a function to send the request to the model's endpoint and receive a response:"
   ]
  },
  {
   "cell_type": "code",
   "execution_count": null,
   "metadata": {},
   "outputs": [],
   "source": [
    "import requests\n",
    "import json\n",
    "\n",
    "\n",
    "def request_model_generate_endpoint(\n",
    "    payload: Dict[str, Any], config: Dict[str, Any] = ollama_config\n",
    ") -> Dict[str, Any]:\n",
    "    try:\n",
    "        response = requests.post(\n",
    "            config.get(\"model_endpoint\"),\n",
    "            headers=config.get(\"headers\", {\"Content-Type\": \"application/json\"}),\n",
    "            data=json.dumps(payload),\n",
    "            timeout=30,\n",
    "        )\n",
    "        response.raise_for_status()\n",
    "\n",
    "        if response.content.strip():\n",
    "            return response.json()\n",
    "        else:\n",
    "            return {\"error\": \"Empty response from model\"}\n",
    "\n",
    "    except requests.RequestException as e:\n",
    "        raise Exception(f\"Request failed: {e}\")\n",
    "\n",
    "\n",
    "# Example usage:\n",
    "response = request_model_generate_endpoint(payload)\n",
    "print(\"Model response:\", response)"
   ]
  },
  {
   "cell_type": "markdown",
   "metadata": {},
   "source": [
    "This function sends the prepared payload to the model's endpoint using the `requests` library. It then checks if the response is valid and returns the content. If there's an error in the request, it raises an exception with a descriptive message.\n",
    "\n",
    "### Processing the Response\n",
    "Finally, we'll write a function to process and understand the model's response. This might involve formatting the response or extracting specific information:"
   ]
  },
  {
   "cell_type": "code",
   "execution_count": null,
   "metadata": {},
   "outputs": [],
   "source": [
    "def process_model_response(response_json: Dict[str, Any]) -> str:\n",
    "    try:\n",
    "        response_content = json.loads(response_json.get(\"response\", \"{}\"))\n",
    "        pretty_content = json.dumps(response_content, indent=4)\n",
    "        \n",
    "        return pretty_content\n",
    "    except json.JSONDecodeError:\n",
    "        return \"Error processing the response\"\n",
    "\n",
    "\n",
    "# Example usage:\n",
    "processed_response = process_model_response(response)\n",
    "print(\"Processed response:\", processed_response)"
   ]
  },
  {
   "cell_type": "markdown",
   "metadata": {},
   "source": [
    "This function processes the model's response, formats it nicely, and returns it as a string. If there's an error in processing, it returns an error message."
   ]
  },
  {
   "cell_type": "markdown",
   "metadata": {},
   "source": [
    "## Putting It All Together\n",
    "\n",
    "Now that we've built the core components of our agent, it's time to put everything together. In this section, we'll implement the agent, give it the ability to execute tasks, and demonstrate how to run it with a simple example.\n",
    "\n",
    "### Implementing the Agent\n",
    "\n",
    "#### Creating a Simple Agent Class\n",
    "\n",
    "We'll start by creating a basic `Agent` class that utilizes the functions and concepts we've discussed so far. This class will manage the agent's state, interact with the model, and handle the responses.\n",
    "\n",
    "#### Simple Task Execution\n",
    "Next, let's implement a method within the `Agent` class that allows the agent to execute a simple task. This task could be anything from processing a user request to performing an operation based on model output."
   ]
  },
  {
   "cell_type": "code",
   "execution_count": null,
   "metadata": {},
   "outputs": [],
   "source": [
    "from typing import Dict, Any\n",
    "\n",
    "\n",
    "class Agent:\n",
    "    def __init__(self, state: Dict[str, Any], role: str, model_config: dict):\n",
    "        \"\"\"\n",
    "        Initialize the Agent with a state, role, and model configuration.\n",
    "        \"\"\"\n",
    "        self.state = state\n",
    "        self.role = role\n",
    "        self.model_config = model_config\n",
    "\n",
    "    def update_state(self, key: str, value: Any):\n",
    "        \"\"\"\n",
    "        Update the state of the agent. Warn if the key doesn't exist.\n",
    "        \"\"\"\n",
    "        if key in self.state:\n",
    "            self.state[key] = value\n",
    "        else:\n",
    "            print(f\"Warning: Attempting to update a non-existing state key '{key}'.\")\n",
    "\n",
    "    def invoke_model(\n",
    "        self, sys_prompt: str, user_prompt: str, update_state: bool = True\n",
    "    ):\n",
    "        \"\"\"\n",
    "        Prepare the payload, send the request to the model, and process the response.\n",
    "        \"\"\"\n",
    "        # Prepare the payload\n",
    "        payload = prepare_payload(user_prompt, sys_prompt, config=self.model_config)\n",
    "\n",
    "        # Invoke the model and get the response\n",
    "        response_json = request_model_generate_endpoint(\n",
    "            payload, config=self.model_config\n",
    "        )\n",
    "\n",
    "        # Process the model's response\n",
    "        response_content = process_model_response(response_json)\n",
    "\n",
    "        # Optionally update the agent's state\n",
    "        if update_state:\n",
    "            self.update_state(\"response\", response_content)\n",
    "\n",
    "        # Return the processed response\n",
    "        return response_content\n",
    "\n",
    "    def work(self, user_request: str, feedback: str =\"\") -> str:\n",
    "        \"\"\"\n",
    "        Execute a simple task based on the user's request.\n",
    "        \"\"\"\n",
    "        # Define a simple system prompt\n",
    "        sys_prompt = DEFAULT_SYS_PM_PROMPT.format(feedback=feedback)\n",
    "\n",
    "        # Invoke the model with the user's request\n",
    "        response = self.invoke_model(sys_prompt=sys_prompt, user_prompt=user_request)\n",
    "\n",
    "        # Return the processed response\n",
    "        return response"
   ]
  },
  {
   "cell_type": "markdown",
   "metadata": {},
   "source": [
    "This class provides a basic framework for an agent, allowing it to maintain state, interact with a model, and process responses. The `invoke_model` method brings together the payload preparation, model invocation, and response processing steps."
   ]
  },
  {
   "cell_type": "code",
   "execution_count": null,
   "metadata": {},
   "outputs": [],
   "source": [
    "# Example usage:\n",
    "# Initialize the agent with an empty state and a role\n",
    "agent_state = {\"response\": \"\"}\n",
    "agent_role = \"Task Manager\"\n",
    "agent = Agent(state=agent_state, role=agent_role, model_config=ollama_config)\n",
    "\n",
    "# Execute a task\n",
    "user_input = \"Create a migration plan.\"\n",
    "response = agent.work(user_request=user_input)\n",
    "print(\"Agent's response:\", response)"
   ]
  },
  {
   "cell_type": "markdown",
   "metadata": {},
   "source": [
    "The `work` method is a simple wrapper around the invoke_model method. It prepares the system prompt, sends the user's request to the model, and returns the processed response. This makes it easy to extend the agent's functionality as needed."
   ]
  },
  {
   "cell_type": "markdown",
   "metadata": {},
   "source": [
    "### Running the Agent\n",
    "\n",
    "Finally, let's demonstrate how to run the agent with a simple example. We'll use the agent class we've just implemented to process a task based on user input."
   ]
  },
  {
   "cell_type": "code",
   "execution_count": null,
   "metadata": {},
   "outputs": [],
   "source": [
    "# Example: Running the agent\n",
    "user_query = \"Create a list of tasks in order to get a plane.\"\n",
    "\n",
    "# Execute the task using the agent\n",
    "result = agent.work(user_request=user_query)\n",
    "\n",
    "# Output the result\n",
    "print(\"Final Output:\", result)"
   ]
  },
  {
   "cell_type": "markdown",
   "metadata": {},
   "source": [
    "## Optional Advanced Section\n",
    "\n",
    "While the basic agent we've implemented is functional, there are several ways to enhance its capabilities. In this section, we'll briefly cover two advanced topics: adding validation to the agent's output and extending the agent's functionality.\n",
    "\n",
    "### Adding Validation\n",
    "\n",
    "One important feature you can add to your agent is the ability to validate its output. This is particularly useful when the output must adhere to a specific format or schema, ensuring that the agent's responses are reliable and consistent.\n",
    "\n",
    "Let's introduce a basic validation method using the `jsonschema` library, which we installed earlier. This method will check if the output from the model matches a predefined schema.\n"
   ]
  },
  {
   "cell_type": "code",
   "execution_count": null,
   "metadata": {},
   "outputs": [],
   "source": [
    "from jsonschema import validate, ValidationError\n",
    "\n",
    "# Example schema for validating the agent's output\n",
    "output_schema = {\n",
    "    \"type\": \"object\",\n",
    "    \"properties\": {\n",
    "        \"tasks\": {\n",
    "            \"type\": \"array\",\n",
    "            \"items\": {\n",
    "                \"type\": \"object\",\n",
    "                \"properties\": {\n",
    "                    \"task_id\": {\"type\": \"string\"},\n",
    "                    \"task_name\": {\"type\": \"string\"},\n",
    "                    \"task_description\": {\"type\": \"string\"},\n",
    "                    \"status\": {\n",
    "                        \"type\": \"string\",\n",
    "                        \"enum\": [\"pending\", \"in_progress\", \"completed\", \"failed\"],\n",
    "                    },\n",
    "                },\n",
    "                \"required\": [\"task_id\", \"task_name\", \"task_description\", \"status\"],\n",
    "            },\n",
    "        }\n",
    "    },\n",
    "    \"required\": [\"tasks\"],\n",
    "}"
   ]
  },
  {
   "cell_type": "code",
   "execution_count": null,
   "metadata": {},
   "outputs": [],
   "source": [
    "def validate_agent_output(output: dict, schema: dict = output_schema) -> bool:\n",
    "    \"\"\"\n",
    "    Validate the agent's output against the provided schema.\n",
    "    \"\"\"\n",
    "    try:\n",
    "        validate(instance=output, schema=schema)\n",
    "        return True, \"\"\n",
    "    except ValidationError as e:\n",
    "        error_details = {\n",
    "            \"message\": e.message,\n",
    "        }\n",
    "        return False, error_details\n",
    "\n",
    "\n",
    "# Validate the example output\n",
    "is_valid, message = validate_agent_output(json.loads(result))\n",
    "print(\"Is the output valid?\", is_valid)"
   ]
  },
  {
   "cell_type": "code",
   "execution_count": null,
   "metadata": {},
   "outputs": [],
   "source": [
    "if not is_valid:\n",
    "    # response_content = json.loads(message.get(\"message\", \"{}\"))\n",
    "    pretty_content = json.dumps(message, indent=4)\n",
    "    print(pretty_content)\n",
    "    # Execute the task using the agent\n",
    "\n",
    "    result = agent.work(user_request=user_query, feedback=message)\n",
    "\n",
    "    is_valid = validate_agent_output(json.loads(result))\n",
    "    print(\"Is the output valid?\", is_valid)"
   ]
  },
  {
   "cell_type": "markdown",
   "metadata": {},
   "source": [
    "This function checks whether the output matches the expected structure. If the output is valid, it returns True; otherwise, it prints an error message and returns False. This validation step helps to catch errors early and ensure that your agent's output is always in the correct format.\n",
    "\n",
    "### Extending the Agent\n",
    "\n",
    "The agent we've created is quite simple, but there are many ways to extend its functionality. Here are a few ideas:\n",
    "\n",
    "- **Multiple Roles:** You could extend the agent to handle multiple roles, each with different responsibilities. For example, an agent could manage tasks, provide recommendations, and monitor progress.\n",
    "\n",
    "- **Dynamic State Management:** Instead of a static state, you could implement dynamic state management where the agent's state evolves based on complex conditions or inputs.\n",
    "\n",
    "- **Error Handling:** Adding robust error handling will make your agent more reliable. You could catch specific exceptions and implement retry logic or fallback strategies.\n",
    "\n",
    "- **Advanced Interactions:** Enhance the agent's interaction with the model by introducing more complex prompts, handling multi-turn conversations, or integrating additional APIs and services.\n",
    "\n",
    "- **Custom Validation Rules:** Beyond schema validation, you can add custom validation rules tailored to specific tasks, ensuring that the agent's outputs meet your exact requirements.\n",
    "\n",
    "These extensions can make your agent more powerful and adaptable, allowing it to handle more complex scenarios and provide more value.\n"
   ]
  },
  {
   "cell_type": "markdown",
   "metadata": {},
   "source": [
    "### Conclusion and Next Steps\n",
    "\n",
    "#### Recap\n",
    "\n",
    "In this notebook, we've covered the essentials of building a simple agent in Python. You learned:\n",
    "\n",
    "- **The basics of what an agent is** and how state management works.\n",
    "- **How to set up the environment** and install the necessary packages.\n",
    "- **How to build core components**, including a datetime function, data handling, and model configuration.\n",
    "- **How to implement and run an agent**, with examples of task execution and response processing.\n",
    "\n",
    "#### Further Learning\n",
    "\n",
    "Now that you have a solid foundation, here are some next steps you can take to continue learning and improving your agent:\n",
    "\n",
    "- **Explore more complex agents:** Look into building agents that can handle multiple tasks, manage dependencies, and operate in different environments.\n",
    "- **Integrate with external APIs:** Extend your agent's capabilities by integrating it with external services, such as databases, cloud services, or messaging platforms.\n",
    "- **Enhance error handling:** Implement more sophisticated error-handling techniques, such as retries, fallback mechanisms, and logging.\n",
    "- **Experiment with different models:** Try using different models with your agent to see how they perform on various tasks. Explore fine-tuning models for specific tasks if needed.\n",
    "- **Study advanced state management:** Learn about more complex state management techniques, such as finite state machines or event-driven architectures, to make your agent more robust.\n",
    "\n",
    "We hope this notebook has provided you with a strong starting point for building and understanding agents in Python. Keep experimenting and exploring—there's much more to discover in the world of agents and automation!"
   ]
  }
 ],
 "metadata": {
  "kernelspec": {
   "display_name": "Python 3",
   "language": "python",
   "name": "python3"
  },
  "language_info": {
   "codemirror_mode": {
    "name": "ipython",
    "version": 3
   },
   "file_extension": ".py",
   "mimetype": "text/x-python",
   "name": "python",
   "nbconvert_exporter": "python",
   "pygments_lexer": "ipython3",
   "version": "3.11.9"
  }
 },
 "nbformat": 4,
 "nbformat_minor": 2
}
