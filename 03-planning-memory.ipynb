{
 "cells": [
  {
   "cell_type": "markdown",
   "metadata": {},
   "source": [
    "# Building a Project Manager (PM) Agent for VM Migration in Python\n",
    "\n",
    "## What You'll Learn\n",
    "\n",
    "In this notebook, you will learn how to build and deploy a Project Manager (PM) agent designed to manage the execution of a Virtual Machine (VM) migration plan. This agent will coordinate various tasks, monitor progress, and dynamically adapt the plan based on feedback from different engineering agents. By the end of this notebook, you will understand how to:\n",
    "\n",
    "- Set up and configure a model to support the PM agent's decision-making process.\n",
    "- Define and manage the state for the PM agent to track task progress and dependencies.\n",
    "- Implement and customize the PM agent to handle specific responsibilities within the VM migration workflow.\n",
    "- Construct and compile a workflow graph to represent the PM agent’s interactions with other agents.\n",
    "- Execute the workflow, manage outputs, and handle dynamic adjustments to the plan based on real-time feedback.\n",
    "\n",
    "## Basic Concepts\n",
    "\n",
    "Before diving into the implementation, it's essential to understand some basic concepts:\n",
    "\n",
    "- **PM Agent:** A specialized agent that autonomously manages the execution of a VM migration plan. The PM agent coordinates tasks, assigns responsibilities to other agents (e.g., OCP Engineer, vSphere Engineer), and tracks the overall progress of the migration.\n",
    "\n",
    "- **State:** A shared data structure that stores the context, task statuses, dependencies, and other critical information required by the PM agent. Effective state management ensures that the PM agent can track progress, handle feedback, and adapt the plan as needed.\n",
    "\n",
    "- **VM Migration Plan:** A structured set of tasks required to move virtual machines from one environment to another. The PM agent will break down the migration plan into individual tasks, assign them to the appropriate agents, and ensure they are executed in the correct order.\n",
    "\n",
    "- **Workflow Graph:** A structured representation of the PM agent's workflow, where nodes represent tasks or decisions, and edges define the flow of control between these steps. This graph helps visualize and manage the sequence of actions during the VM migration process.\n",
    "\n",
    "- **Feedback Handling:** The process by which the PM agent receives and processes feedback from other agents (e.g., task completion, errors, or issues) and adapts the migration plan accordingly to ensure a smooth execution.\n",
    "\n",
    "- **Prompt Engineering:** The process of crafting prompts that guide the PM agent's interaction with the model. Proper prompt engineering ensures that the agent generates relevant and accurate tasks and adjustments to the migration plan.\n",
    "\n",
    "Understanding these concepts will provide a solid foundation as we proceed with the practical implementation of the PM agent and its role in managing a VM migration plan.\n"
   ]
  },
  {
   "cell_type": "markdown",
   "metadata": {},
   "source": [
    "## 1. Setup\n",
    "\n",
    "Before we begin, let's make sure your environment is set up correctly. We'll start by installing the necessary Python packages.\n",
    "\n",
    "### Installing Required Packages\n",
    "\n",
    "To get started, you'll need to install a few Python libraries. Run the following command to install them:"
   ]
  },
  {
   "cell_type": "code",
   "execution_count": 89,
   "metadata": {},
   "outputs": [
    {
     "name": "stdout",
     "output_type": "stream",
     "text": [
      "Requirement already satisfied: langgraph in ./.conda/lib/python3.11/site-packages (0.2.16)\n",
      "Requirement already satisfied: langgraph-checkpoint-sqlite in ./.conda/lib/python3.11/site-packages (1.0.3)\n",
      "Requirement already satisfied: requests in ./.conda/lib/python3.11/site-packages (2.32.3)\n",
      "Requirement already satisfied: jsonschema in ./.conda/lib/python3.11/site-packages (4.23.0)\n",
      "Requirement already satisfied: tenacity in ./.conda/lib/python3.11/site-packages (8.5.0)\n",
      "Requirement already satisfied: langchain-core<0.3,>=0.2.27 in ./.conda/lib/python3.11/site-packages (from langgraph) (0.2.38)\n",
      "Requirement already satisfied: langgraph-checkpoint<2.0.0,>=1.0.2 in ./.conda/lib/python3.11/site-packages (from langgraph) (1.0.8)\n",
      "Requirement already satisfied: aiosqlite<0.21.0,>=0.20.0 in ./.conda/lib/python3.11/site-packages (from langgraph-checkpoint-sqlite) (0.20.0)\n",
      "Requirement already satisfied: charset-normalizer<4,>=2 in ./.conda/lib/python3.11/site-packages (from requests) (3.3.2)\n",
      "Requirement already satisfied: idna<4,>=2.5 in ./.conda/lib/python3.11/site-packages (from requests) (3.8)\n",
      "Requirement already satisfied: urllib3<3,>=1.21.1 in ./.conda/lib/python3.11/site-packages (from requests) (2.2.2)\n",
      "Requirement already satisfied: certifi>=2017.4.17 in ./.conda/lib/python3.11/site-packages (from requests) (2024.8.30)\n",
      "Requirement already satisfied: attrs>=22.2.0 in ./.conda/lib/python3.11/site-packages (from jsonschema) (24.2.0)\n",
      "Requirement already satisfied: jsonschema-specifications>=2023.03.6 in ./.conda/lib/python3.11/site-packages (from jsonschema) (2023.12.1)\n",
      "Requirement already satisfied: referencing>=0.28.4 in ./.conda/lib/python3.11/site-packages (from jsonschema) (0.35.1)\n",
      "Requirement already satisfied: rpds-py>=0.7.1 in ./.conda/lib/python3.11/site-packages (from jsonschema) (0.20.0)\n",
      "Requirement already satisfied: typing_extensions>=4.0 in ./.conda/lib/python3.11/site-packages (from aiosqlite<0.21.0,>=0.20.0->langgraph-checkpoint-sqlite) (4.12.2)\n",
      "Requirement already satisfied: PyYAML>=5.3 in ./.conda/lib/python3.11/site-packages (from langchain-core<0.3,>=0.2.27->langgraph) (6.0.2)\n",
      "Requirement already satisfied: jsonpatch<2.0,>=1.33 in ./.conda/lib/python3.11/site-packages (from langchain-core<0.3,>=0.2.27->langgraph) (1.33)\n",
      "Requirement already satisfied: langsmith<0.2.0,>=0.1.75 in ./.conda/lib/python3.11/site-packages (from langchain-core<0.3,>=0.2.27->langgraph) (0.1.110)\n",
      "Requirement already satisfied: packaging<25,>=23.2 in ./.conda/lib/python3.11/site-packages (from langchain-core<0.3,>=0.2.27->langgraph) (24.1)\n",
      "Requirement already satisfied: pydantic<3,>=1 in ./.conda/lib/python3.11/site-packages (from langchain-core<0.3,>=0.2.27->langgraph) (2.8.2)\n",
      "Requirement already satisfied: jsonpointer>=1.9 in ./.conda/lib/python3.11/site-packages (from jsonpatch<2.0,>=1.33->langchain-core<0.3,>=0.2.27->langgraph) (3.0.0)\n",
      "Requirement already satisfied: httpx<1,>=0.23.0 in ./.conda/lib/python3.11/site-packages (from langsmith<0.2.0,>=0.1.75->langchain-core<0.3,>=0.2.27->langgraph) (0.27.2)\n",
      "Requirement already satisfied: orjson<4.0.0,>=3.9.14 in ./.conda/lib/python3.11/site-packages (from langsmith<0.2.0,>=0.1.75->langchain-core<0.3,>=0.2.27->langgraph) (3.10.7)\n",
      "Requirement already satisfied: annotated-types>=0.4.0 in ./.conda/lib/python3.11/site-packages (from pydantic<3,>=1->langchain-core<0.3,>=0.2.27->langgraph) (0.7.0)\n",
      "Requirement already satisfied: pydantic-core==2.20.1 in ./.conda/lib/python3.11/site-packages (from pydantic<3,>=1->langchain-core<0.3,>=0.2.27->langgraph) (2.20.1)\n",
      "Requirement already satisfied: anyio in ./.conda/lib/python3.11/site-packages (from httpx<1,>=0.23.0->langsmith<0.2.0,>=0.1.75->langchain-core<0.3,>=0.2.27->langgraph) (4.4.0)\n",
      "Requirement already satisfied: httpcore==1.* in ./.conda/lib/python3.11/site-packages (from httpx<1,>=0.23.0->langsmith<0.2.0,>=0.1.75->langchain-core<0.3,>=0.2.27->langgraph) (1.0.5)\n",
      "Requirement already satisfied: sniffio in ./.conda/lib/python3.11/site-packages (from httpx<1,>=0.23.0->langsmith<0.2.0,>=0.1.75->langchain-core<0.3,>=0.2.27->langgraph) (1.3.1)\n",
      "Requirement already satisfied: h11<0.15,>=0.13 in ./.conda/lib/python3.11/site-packages (from httpcore==1.*->httpx<1,>=0.23.0->langsmith<0.2.0,>=0.1.75->langchain-core<0.3,>=0.2.27->langgraph) (0.14.0)\n",
      "Note: you may need to restart the kernel to use updated packages.\n"
     ]
    }
   ],
   "source": [
    "%pip install langgraph langgraph-checkpoint-sqlite requests jsonschema tenacity "
   ]
  },
  {
   "cell_type": "markdown",
   "metadata": {},
   "source": [
    "## 2. Building Blocks\n",
    "\n",
    "In this section, we'll start by building the basic components that our agent will use. These building blocks will form the foundation of our agent, enabling it to keep track of time, store data, and interact with a model.\n",
    "\n",
    "### Datetime Function\n",
    "\n",
    "The first building block we'll create is a simple function to get the current time. This is important because our agent might need to timestamp certain actions or events. Let's write a function that returns the current date and time in UTC format:\n"
   ]
  },
  {
   "cell_type": "code",
   "execution_count": 90,
   "metadata": {},
   "outputs": [
    {
     "name": "stdout",
     "output_type": "stream",
     "text": [
      "Current UTC datetime: 2024-09-04 17:55:39.378377 \n"
     ]
    }
   ],
   "source": [
    "from datetime import datetime, timezone\n",
    "\n",
    "\n",
    "def get_current_utc_datetime():\n",
    "    now_utc = datetime.now(timezone.utc)\n",
    "    return now_utc.strftime(\"%Y-%m-%d %H:%M:%S.%f UTC\")[:-3]\n",
    "\n",
    "\n",
    "# Example usage:\n",
    "print(\"Current UTC datetime:\", get_current_utc_datetime())"
   ]
  },
  {
   "cell_type": "markdown",
   "metadata": {},
   "source": [
    "### Basic Agent Data Handling\n",
    "Next, we'll introduce a simple way to handle data for our agent. In this case, we'll create a function that allows us to load and manage the agent's data. This data might include things like the agent's responsibilities, the tasks it needs to perform, and other relevant information.\n",
    "\n",
    "Let's assume the data is stored in a YAML file (a common format for configuration files), and we'll write a function to load this data:"
   ]
  },
  {
   "cell_type": "code",
   "execution_count": 91,
   "metadata": {},
   "outputs": [
    {
     "name": "stdout",
     "output_type": "stream",
     "text": [
      "Loaded agent descriptions: {'agents': [{'name': 'Planner Agent', 'role': 'Planner Agent', 'responsibilities': ['Creates a comprehensive Migration Plan based on the tutorial.', 'Identifies key steps, target VMs, and source/target providers.', 'Coordinates and structures the plan for execution by other agents.']}, {'name': 'Project Manager (PM) Agent', 'role': 'Project Manager Agent', 'responsibilities': ['Manages the breakdown of tasks for the migration process.', 'Oversees task execution and ensures agents are working in coordination.', 'Ensures timelines are followed and adjusts the plan as necessary.', 'Communicates with all agents to ensure smooth task progression and resolve bottlenecks.']}, {'name': 'vSphere Engineer Agent', 'role': 'vSphere Engineer Agent', 'responsibilities': ['Handles VM identification and configuration within the vSphere environment.', 'Identifies VMs to migrate based on the tutorial instructions.', 'Manages and configures the Migration Toolkit for Virtualization (MTV) to set up the vSphere source providers.', 'Ensures proper VM resource allocation (CPU, memory, storage) within vSphere.', 'Powers off VMs and prepares them for migration if required.', 'Verifies that the VMs in the vSphere environment are ready for migration.']}, {'name': 'OpenShift Engineer Agent', 'role': 'OpenShift Engineer Agent', 'responsibilities': ['Sets up and configures the OpenShift environment for the migrated VMs.', 'Ensures that required OpenShift projects (namespaces) are created and accessible.', 'Configures the Migration Toolkit for Virtualization (MTV) to set up OpenShift as the target provider.', 'Deploys and configures the migrated VMs in OpenShift, ensuring proper integration with storage, networking, and compute resources.', 'Verifies that the OpenShift environment is correctly configured and ready to host migrated VMs.', 'Provides troubleshooting and remediation if issues arise during the setup.', 'Coordinates with the Networking Agent to ensure OpenShift routes, services, and load balancers are configured for migrated applications.']}, {'name': 'Reviewer Agent', 'role': 'Reviewer Agent', 'responsibilities': ['Validates the successful migration of VMs to the target environment.', 'Ensures the application and VMs are functioning correctly post-migration.', 'Checks logs, network settings, and storage allocations for correctness.', 'Provides a final report on the migration’s success.']}]}\n"
     ]
    }
   ],
   "source": [
    "import yaml\n",
    "from typing import Dict, Any\n",
    "\n",
    "\n",
    "def load_agent_descriptions(description_file: str) -> Dict[str, Any]:\n",
    "    \"\"\"\n",
    "    Load the agent descriptions from a YAML file.\n",
    "    \"\"\"\n",
    "    try:\n",
    "        with open(description_file, \"r\") as file:\n",
    "            return yaml.safe_load(file)\n",
    "    except FileNotFoundError:\n",
    "        raise FileNotFoundError(f\"Description file '{description_file}' not found.\")\n",
    "\n",
    "\n",
    "# Example usage:\n",
    "agents_description = load_agent_descriptions(\"agents.yaml\")\n",
    "print(\"Loaded agent descriptions:\", agents_description)"
   ]
  },
  {
   "cell_type": "markdown",
   "metadata": {},
   "source": [
    "## 3. Configuring a Simple Model\n",
    "Now that we have the basic building blocks, we'll move on to configuring a model that our agent can use to perform its tasks. This model will process inputs (like a user request) and generate outputs (like a task list).\n",
    "\n",
    "### Model Configuration\n",
    "We'll start by setting up a simple configuration for the model. This configuration will include details like the model's endpoint, temperature, and other parameters. Let's create a function to handle this:"
   ]
  },
  {
   "cell_type": "code",
   "execution_count": 92,
   "metadata": {},
   "outputs": [
    {
     "name": "stdout",
     "output_type": "stream",
     "text": [
      "Model configuration: {'model_endpoint': 'http://localhost:11434/api/generate', 'model': 'llama3:instruct', 'temperature': 0.0, 'top_p': 1.0, 'top_k': 0, 'repetition_penalty': 1.0, 'headers': {'Content-Type': 'application/json'}, 'stop': None}\n"
     ]
    }
   ],
   "source": [
    "def setup_ollama_model(\n",
    "    model, temperature=0.0, top_p=1.0, top_k=0, repetition_penalty=1.0, stop=None\n",
    "):\n",
    "    return {\n",
    "        \"model_endpoint\": \"http://localhost:11434/api/generate\",\n",
    "        \"model\": model,\n",
    "        \"temperature\": temperature,\n",
    "        \"top_p\": top_p,\n",
    "        \"top_k\": top_k,\n",
    "        \"repetition_penalty\": repetition_penalty,\n",
    "        \"headers\": {\"Content-Type\": \"application/json\"},\n",
    "        \"stop\": stop,\n",
    "    }\n",
    "\n",
    "\n",
    "# Example configuration:\n",
    "ollama_config = setup_ollama_model(model=\"llama3:instruct\")\n",
    "print(\"Model configuration:\", ollama_config)"
   ]
  },
  {
   "cell_type": "markdown",
   "metadata": {},
   "source": [
    "This function returns a dictionary with the model's configuration. You can adjust the parameters based on the specific model you're using or the task requirements.\n",
    "\n",
    "### Preparing a Request\n",
    "With the model configured, the next step is to prepare a request that the agent can send to the model. This request will include the user's input, the system's instructions, and any other necessary information. Let's write a function to prepare this request:"
   ]
  },
  {
   "cell_type": "code",
   "execution_count": 93,
   "metadata": {},
   "outputs": [],
   "source": [
    "def prepare_payload(\n",
    "    user_prompt: str,\n",
    "    sys_prompt: str,\n",
    "    stream: bool = False,\n",
    "    config: Dict[str, Any] = ollama_config,\n",
    ") -> Dict[str, Any]:\n",
    "    return {\n",
    "        \"model\": config.get(\"model\"),\n",
    "        \"format\": \"json\",\n",
    "        \"prompt\": user_prompt,\n",
    "        \"system\": sys_prompt,\n",
    "        \"stream\": stream,\n",
    "        \"temperature\": config.get(\"temperature\", 0.0),\n",
    "        \"top_p\": config.get(\"top_p\", 1.0),\n",
    "        \"top_k\": config.get(\"top_k\", 0),\n",
    "        \"repetition_penalty\": config.get(\"repetition_penalty\", 1.0),\n",
    "        \"stop\": config.get(\"stop\"),\n",
    "    }"
   ]
  },
  {
   "cell_type": "markdown",
   "metadata": {},
   "source": [
    "### Sending a Request\n",
    "We'll start by writing a function to send the request to the model's endpoint and receive a response:"
   ]
  },
  {
   "cell_type": "code",
   "execution_count": 94,
   "metadata": {},
   "outputs": [],
   "source": [
    "import requests\n",
    "import json\n",
    "\n",
    "\n",
    "def request_model_generate_endpoint(\n",
    "    payload: Dict[str, Any], config: Dict[str, Any] = ollama_config\n",
    ") -> Dict[str, Any]:\n",
    "    try:\n",
    "        response = requests.post(\n",
    "            config.get(\"model_endpoint\"),\n",
    "            headers=config.get(\"headers\", {\"Content-Type\": \"application/json\"}),\n",
    "            data=json.dumps(payload),\n",
    "            timeout=30,\n",
    "        )\n",
    "        response.raise_for_status()\n",
    "\n",
    "        if response.content.strip():\n",
    "            return response.json()\n",
    "        else:\n",
    "            return {\"error\": \"Empty response from model\"}\n",
    "\n",
    "    except requests.RequestException as e:\n",
    "        raise Exception(f\"Request failed: {e}\")"
   ]
  },
  {
   "cell_type": "markdown",
   "metadata": {},
   "source": [
    "This function sends the prepared payload to the model's endpoint using the `requests` library. It then checks if the response is valid and returns the content. If there's an error in the request, it raises an exception with a descriptive message.\n",
    "\n",
    "### Processing the Response\n",
    "Finally, we'll write a function to process and understand the model's response. This might involve formatting the response or extracting specific information:"
   ]
  },
  {
   "cell_type": "code",
   "execution_count": 95,
   "metadata": {},
   "outputs": [],
   "source": [
    "def process_model_response(response_json: Dict[str, Any]) -> str:\n",
    "    try:\n",
    "        response_content = json.loads(response_json.get(\"response\", \"{}\"))\n",
    "        pretty_content = json.dumps(response_content, indent=4)\n",
    "\n",
    "        return pretty_content\n",
    "    except json.JSONDecodeError:\n",
    "        return \"Error processing the response\""
   ]
  },
  {
   "cell_type": "markdown",
   "metadata": {},
   "source": [
    "## 4. State Management\n",
    "\n",
    "State management is an essential concept when working with agents. The \"state\" of an agent refers to its current condition or the information it has at any given time. For instance, if an agent is working through a list of tasks, its state might include which tasks have been completed, which are in progress, and which are yet to be started.\n",
    "\n",
    "Managing this state is crucial because it allows the agent to keep track of what it has done and what it needs to do next. Without proper state management, an agent might lose track of its progress, repeat tasks, or skip important steps. In this notebook, you'll learn how to manage an agent's state effectively, ensuring that it operates smoothly and efficiently.\n",
    "\n",
    "### Implementation of State Management\n",
    "\n",
    "To implement state management for our PM agent, we define a structured data model (`AgentGraphState`) that holds all the relevant information the agent needs to function effectively. This model includes:\n",
    "- **Input:** The current command or task that the agent is working on.\n",
    "- **Response:** The outputs or actions the agent has generated.\n",
    "- **Feedback:** Any feedback received from other agents or parts of the system.\n",
    "- **Validation Status:** A flag indicating whether the agent's output has been validated, ensuring that all tasks meet the required criteria before proceeding.\n",
    "\n",
    "Additionally, we provide a utility function, `update_state`, which allows for updating specific elements of the agent's state. This function ensures that the state is consistently and accurately maintained, which is critical for the agent to operate effectively. By checking for the existence of keys before updating, the function helps prevent errors and maintains the integrity of the state.\n",
    "\n",
    "Together, these components form the backbone of the agent's state management system, enabling it to manage complex workflows and adapt to changes dynamically."
   ]
  },
  {
   "cell_type": "code",
   "execution_count": 96,
   "metadata": {},
   "outputs": [],
   "source": [
    "from langgraph.graph.message import add_messages\n",
    "from typing import Annotated, TypedDict, Any\n",
    "\n",
    "class AgentGraphState(TypedDict):\n",
    "    input: str\n",
    "    response: Annotated[list, add_messages]\n",
    "    feedback: Annotated[list, add_messages]\n",
    "    validated: bool = False\n",
    "\n",
    "\n",
    "def update_state(state: AgentGraphState, key: str, value: Any):\n",
    "    \"\"\"\n",
    "    Update the state of the agent. Warn if the key doesn't exist.\n",
    "    \"\"\"\n",
    "    if key in state:\n",
    "        state[key] = value\n",
    "    else:\n",
    "        print(f\"Warning: Attempting to update a non-existing state key '{key}'.\")"
   ]
  },
  {
   "cell_type": "markdown",
   "metadata": {},
   "source": [
    "## 5. What is an Agent?\n",
    "\n",
    "In simple terms, an agent is a program that can perform tasks autonomously based on a set of instructions. Think of an agent as a virtual assistant that can handle specific jobs for you. For example, in the context of data science or software development, an agent might process data, make decisions based on that data, and then carry out actions like sending requests or updating records.\n",
    "\n",
    "Agents are often designed to work without constant human intervention. Once you give them the initial instructions, they can execute tasks on their own, making them very useful in automating repetitive or complex processes."
   ]
  },
  {
   "cell_type": "markdown",
   "metadata": {},
   "source": [
    "\n",
    "### System Prompts\n",
    "\n",
    "System prompts are predefined instructions provided to large language models (LLMs) that guide the AI's behavior during interactions. They set the context, define the role of the AI, and establish rules for how the model should respond to user inputs.\n",
    "\n",
    "#### Importance of System Prompts\n",
    "\n",
    "System prompts are essential for ensuring that an AI model like our PM agent performs its tasks consistently and effectively. By specifying the role, task guidelines, and response format, the system prompt helps the AI maintain focus on its objectives—in this case, managing a VM migration plan. \n",
    "\n",
    "#### How They Work\n",
    "\n",
    "When the PM agent receives a query, the system prompt shapes how it processes the input and generates its output. This includes breaking down tasks, assigning them to the correct agents, and handling feedback—all within the structure provided by the prompt.\n",
    "\n",
    "In summary, system prompts are a powerful tool that directs AI behavior, ensuring responses are aligned with the desired goals and context.\n"
   ]
  },
  {
   "cell_type": "code",
   "execution_count": 97,
   "metadata": {},
   "outputs": [],
   "source": [
    "DEFAULT_SYS_PM_PROMPT = \"\"\"\n",
    "system\n",
    "\n",
    "Environment: ipython  \n",
    "Cutting Knowledge Date: December 2023  \n",
    "Today Date: {datetime}  \n",
    "\n",
    "You are the **Project Manager (PM) Agent** responsible for transforming the **Migration Plan Document (MPD)** into an actionable execution plan. Your mission is to ensure the smooth execution of migration tasks by coordinating agents (OCP Engineer, vSphere Engineer, Cleanup) and monitoring progress from start to finish.\n",
    "\n",
    "---\n",
    "\n",
    "### Feedback Handling:\n",
    "If any task encounters issues or feedback, adapt the execution plan dynamically to accommodate the changes. Ensure that all agents are informed accordingly and that tasks are adjusted based on feedback. Here is the feedback received:\n",
    "Feedback:\n",
    "\n",
    "{feedback}\n",
    "\n",
    "---\n",
    "\n",
    "### Agents Description:\n",
    "{agents_description}\n",
    "\n",
    "---\n",
    "\n",
    "### Guidelines:\n",
    "\n",
    "1. **Task Status Management:** Monitor feedback from agents (e.g., OCP Engineer, vSphere Engineer) and update the status of existing tasks. Only create new tasks if explicitly required by new information or feedback.\n",
    "2. **Transform MPD into Tasks:** Break down the MPD into clear, actionable tasks with unique IDs, names, descriptions, assigned agents, dependencies, and acceptance criteria.\n",
    "3. **Assign Agents:** Assign each task to the correct agent based on the task’s requirements and the agents’ roles.\n",
    "4. **Track Status:** Continuously monitor task progress and update task statuses as `\"pending\"`, `\"in_progress\"`, `\"completed\"`, or `\"failed\"`.\n",
    "5. **Handle Dependencies:** Ensure that tasks only begin after all their dependencies are completed.\n",
    "6. **Facilitate Communication:** Ensure smooth communication between agents to resolve task dependencies or blockers.\n",
    "7. **Define Acceptance Criteria:** Ensure each task has clear acceptance criteria, and update task statuses based on the completion of those criteria.\n",
    "\n",
    "---\n",
    "\n",
    "### Output Format (Task Structure):\n",
    "\n",
    "Your response should return a task list in the following format. This task list is central to ensuring that all migration tasks are tracked and executed correctly:\n",
    "\n",
    "{{\n",
    "    \"tasks\": [\n",
    "        {{\n",
    "            \"task_id\": \"string\",  # Unique identifier for the task.\n",
    "            \"task_name\": \"string\",  # The short name of the task (e.g., \"Create Migration Plan\").\n",
    "            \"task_description\": \"string\",  # A detailed description of the task's actions.\n",
    "            \"agent\": \"string\",  # The agent responsible for executing the task (must be one of: \"ocp_engineer\", \"vsphere_engineer\", \"cleanup\").\n",
    "            \"status\": \"pending\",  # The current status of the task (\"pending\", \"in_progress\", \"completed\", \"failed\").\n",
    "            \"dependencies\": [\"array\"],  # Task IDs that must be completed before this task starts.\n",
    "            \"acceptance_criteria\": \"string\",  # The criteria for determining task success (e.g., \"Migration plan created and validated\").\n",
    "            \"tool_to_use\": \"string or null\",  # The tool that the agent should use to execute the task. This may be null if no tool is required.\n",
    "            \"provided_inputs\": {{\n",
    "                \"key\": \"string | array | null\"  # Input data needed for this task, such as VM names or configurations.\n",
    "            }}\n",
    "        }}\n",
    "    ]\n",
    "}}\n",
    "\n",
    "---\n",
    "\n",
    "### Example of a Task List:\n",
    "\n",
    "{{\n",
    "    \"tasks\": [\n",
    "        {{\n",
    "            \"task_id\": \"task_001\",\n",
    "            \"task_name\": \"Retrieve VM Details (Database)\",\n",
    "            \"task_description\": \"The vSphere engineer will retrieve the details of the virtual machine named 'database'.\",\n",
    "            \"agent\": \"vsphere_engineer\",\n",
    "            \"status\": \"pending\",\n",
    "            \"dependencies\": [],\n",
    "            \"acceptance_criteria\": \"VM details retrieved successfully.\",\n",
    "            \"tool_to_use\": \"retrieve_vm_details_tool\"\n",
    "        }},\n",
    "        {{\n",
    "            \"task_id\": \"task_002\",\n",
    "            \"task_name\": \"Create Migration Plan\",\n",
    "            \"task_description\": \"Create a migration plan for the specified virtual machines.\",\n",
    "            \"agent\": \"ocp_engineer\",\n",
    "            \"status\": \"pending\",\n",
    "            \"dependencies\": [],\n",
    "            \"acceptance_criteria\": \"Migration plan created and validated.\",\n",
    "            \"tool_to_use\": \"create_migration_plan_tool\",\n",
    "            \"provided_inputs\": {{\n",
    "                \"vm_names\": [\"vm1\", \"vm2\", \"vm3\"],\n",
    "                \"plan_name\": \"database-plan\"\n",
    "            }}\n",
    "        }},\n",
    "        {{\n",
    "            \"task_id\": \"task_003\",\n",
    "            \"task_name\": \"Start Migration\",\n",
    "            \"task_description\": \"Start the migration process using the migration plan.\",\n",
    "            \"agent\": \"ocp_engineer\",\n",
    "            \"status\": \"pending\",\n",
    "            \"dependencies\": [\"task_001\"],\n",
    "            \"acceptance_criteria\": \"Migration process successfully started.\",\n",
    "            \"tool_to_use\": \"start_migration_tool\",\n",
    "            \"provided_inputs\": {{\n",
    "                \"plan_name\": \"database-plan\"\n",
    "            }}\n",
    "        }}\n",
    "    ]\n",
    "}}\n",
    "\n",
    "\n",
    "---\n",
    "\n",
    "Remember:\n",
    "- **Do not change the original task plan** unless explicitly required by new information, dependencies, or feedback.\n",
    "- Always prioritize updating existing tasks based on feedback before creating new tasks.\n",
    "- Ensure that the original tasks are followed as closely as possible to avoid unnecessary changes in the execution plan.\n",
    "- Ensure tasks are marked as complete once their acceptance criteria are met.\n",
    "- Maintain the JSON format and ensure all fields are filled out correctly, including the `tool_to_use` field with the appropriate tool name.\n",
    "\"\"\""
   ]
  },
  {
   "cell_type": "code",
   "execution_count": 98,
   "metadata": {},
   "outputs": [],
   "source": [
    "def write_pm_prompt(\n",
    "    feedback_value: str = \"\",\n",
    "    agents_description: str = agents_description,\n",
    ") -> str:\n",
    "    return DEFAULT_SYS_PM_PROMPT.format(\n",
    "        agents_description=agents_description,\n",
    "        feedback=feedback_value,\n",
    "        datetime=get_current_utc_datetime(),\n",
    "    )"
   ]
  },
  {
   "cell_type": "code",
   "execution_count": 99,
   "metadata": {},
   "outputs": [
    {
     "name": "stdout",
     "output_type": "stream",
     "text": [
      "Prepared payload: {'model': 'llama3:instruct', 'format': 'json', 'prompt': 'What tasks should I complete in order to make pasta?', 'system': '\\nsystem\\n\\nEnvironment: ipython  \\nCutting Knowledge Date: December 2023  \\nToday Date: 2024-09-04 17:55:39.449603   \\n\\nYou are the **Project Manager (PM) Agent** responsible for transforming the **Migration Plan Document (MPD)** into an actionable execution plan. Your mission is to ensure the smooth execution of migration tasks by coordinating agents (OCP Engineer, vSphere Engineer, Cleanup) and monitoring progress from start to finish.\\n\\n---\\n\\n### Feedback Handling:\\nIf any task encounters issues or feedback, adapt the execution plan dynamically to accommodate the changes. Ensure that all agents are informed accordingly and that tasks are adjusted based on feedback. Here is the feedback received:\\nFeedback:\\n\\n\\n\\n---\\n\\n### Agents Description:\\n{\\'agents\\': [{\\'name\\': \\'Planner Agent\\', \\'role\\': \\'Planner Agent\\', \\'responsibilities\\': [\\'Creates a comprehensive Migration Plan based on the tutorial.\\', \\'Identifies key steps, target VMs, and source/target providers.\\', \\'Coordinates and structures the plan for execution by other agents.\\']}, {\\'name\\': \\'Project Manager (PM) Agent\\', \\'role\\': \\'Project Manager Agent\\', \\'responsibilities\\': [\\'Manages the breakdown of tasks for the migration process.\\', \\'Oversees task execution and ensures agents are working in coordination.\\', \\'Ensures timelines are followed and adjusts the plan as necessary.\\', \\'Communicates with all agents to ensure smooth task progression and resolve bottlenecks.\\']}, {\\'name\\': \\'vSphere Engineer Agent\\', \\'role\\': \\'vSphere Engineer Agent\\', \\'responsibilities\\': [\\'Handles VM identification and configuration within the vSphere environment.\\', \\'Identifies VMs to migrate based on the tutorial instructions.\\', \\'Manages and configures the Migration Toolkit for Virtualization (MTV) to set up the vSphere source providers.\\', \\'Ensures proper VM resource allocation (CPU, memory, storage) within vSphere.\\', \\'Powers off VMs and prepares them for migration if required.\\', \\'Verifies that the VMs in the vSphere environment are ready for migration.\\']}, {\\'name\\': \\'OpenShift Engineer Agent\\', \\'role\\': \\'OpenShift Engineer Agent\\', \\'responsibilities\\': [\\'Sets up and configures the OpenShift environment for the migrated VMs.\\', \\'Ensures that required OpenShift projects (namespaces) are created and accessible.\\', \\'Configures the Migration Toolkit for Virtualization (MTV) to set up OpenShift as the target provider.\\', \\'Deploys and configures the migrated VMs in OpenShift, ensuring proper integration with storage, networking, and compute resources.\\', \\'Verifies that the OpenShift environment is correctly configured and ready to host migrated VMs.\\', \\'Provides troubleshooting and remediation if issues arise during the setup.\\', \\'Coordinates with the Networking Agent to ensure OpenShift routes, services, and load balancers are configured for migrated applications.\\']}, {\\'name\\': \\'Reviewer Agent\\', \\'role\\': \\'Reviewer Agent\\', \\'responsibilities\\': [\\'Validates the successful migration of VMs to the target environment.\\', \\'Ensures the application and VMs are functioning correctly post-migration.\\', \\'Checks logs, network settings, and storage allocations for correctness.\\', \\'Provides a final report on the migration’s success.\\']}]}\\n\\n---\\n\\n### Guidelines:\\n\\n1. **Task Status Management:** Monitor feedback from agents (e.g., OCP Engineer, vSphere Engineer) and update the status of existing tasks. Only create new tasks if explicitly required by new information or feedback.\\n2. **Transform MPD into Tasks:** Break down the MPD into clear, actionable tasks with unique IDs, names, descriptions, assigned agents, dependencies, and acceptance criteria.\\n3. **Assign Agents:** Assign each task to the correct agent based on the task’s requirements and the agents’ roles.\\n4. **Track Status:** Continuously monitor task progress and update task statuses as `\"pending\"`, `\"in_progress\"`, `\"completed\"`, or `\"failed\"`.\\n5. **Handle Dependencies:** Ensure that tasks only begin after all their dependencies are completed.\\n6. **Facilitate Communication:** Ensure smooth communication between agents to resolve task dependencies or blockers.\\n7. **Define Acceptance Criteria:** Ensure each task has clear acceptance criteria, and update task statuses based on the completion of those criteria.\\n\\n---\\n\\n### Output Format (Task Structure):\\n\\nYour response should return a task list in the following format. This task list is central to ensuring that all migration tasks are tracked and executed correctly:\\n\\n{\\n    \"tasks\": [\\n        {\\n            \"task_id\": \"string\",  # Unique identifier for the task.\\n            \"task_name\": \"string\",  # The short name of the task (e.g., \"Create Migration Plan\").\\n            \"task_description\": \"string\",  # A detailed description of the task\\'s actions.\\n            \"agent\": \"string\",  # The agent responsible for executing the task (must be one of: \"ocp_engineer\", \"vsphere_engineer\", \"cleanup\").\\n            \"status\": \"pending\",  # The current status of the task (\"pending\", \"in_progress\", \"completed\", \"failed\").\\n            \"dependencies\": [\"array\"],  # Task IDs that must be completed before this task starts.\\n            \"acceptance_criteria\": \"string\",  # The criteria for determining task success (e.g., \"Migration plan created and validated\").\\n            \"tool_to_use\": \"string or null\",  # The tool that the agent should use to execute the task. This may be null if no tool is required.\\n            \"provided_inputs\": {\\n                \"key\": \"string | array | null\"  # Input data needed for this task, such as VM names or configurations.\\n            }\\n        }\\n    ]\\n}\\n\\n---\\n\\n### Example of a Task List:\\n\\n{\\n    \"tasks\": [\\n        {\\n            \"task_id\": \"task_001\",\\n            \"task_name\": \"Retrieve VM Details (Database)\",\\n            \"task_description\": \"The vSphere engineer will retrieve the details of the virtual machine named \\'database\\'.\",\\n            \"agent\": \"vsphere_engineer\",\\n            \"status\": \"pending\",\\n            \"dependencies\": [],\\n            \"acceptance_criteria\": \"VM details retrieved successfully.\",\\n            \"tool_to_use\": \"retrieve_vm_details_tool\"\\n        },\\n        {\\n            \"task_id\": \"task_002\",\\n            \"task_name\": \"Create Migration Plan\",\\n            \"task_description\": \"Create a migration plan for the specified virtual machines.\",\\n            \"agent\": \"ocp_engineer\",\\n            \"status\": \"pending\",\\n            \"dependencies\": [],\\n            \"acceptance_criteria\": \"Migration plan created and validated.\",\\n            \"tool_to_use\": \"create_migration_plan_tool\",\\n            \"provided_inputs\": {\\n                \"vm_names\": [\"vm1\", \"vm2\", \"vm3\"],\\n                \"plan_name\": \"database-plan\"\\n            }\\n        },\\n        {\\n            \"task_id\": \"task_003\",\\n            \"task_name\": \"Start Migration\",\\n            \"task_description\": \"Start the migration process using the migration plan.\",\\n            \"agent\": \"ocp_engineer\",\\n            \"status\": \"pending\",\\n            \"dependencies\": [\"task_001\"],\\n            \"acceptance_criteria\": \"Migration process successfully started.\",\\n            \"tool_to_use\": \"start_migration_tool\",\\n            \"provided_inputs\": {\\n                \"plan_name\": \"database-plan\"\\n            }\\n        }\\n    ]\\n}\\n\\n\\n---\\n\\nRemember:\\n- **Do not change the original task plan** unless explicitly required by new information, dependencies, or feedback.\\n- Always prioritize updating existing tasks based on feedback before creating new tasks.\\n- Ensure that the original tasks are followed as closely as possible to avoid unnecessary changes in the execution plan.\\n- Ensure tasks are marked as complete once their acceptance criteria are met.\\n- Maintain the JSON format and ensure all fields are filled out correctly, including the `tool_to_use` field with the appropriate tool name.\\n', 'stream': False, 'temperature': 0.0, 'top_p': 1.0, 'top_k': 0, 'repetition_penalty': 1.0, 'stop': None}\n"
     ]
    }
   ],
   "source": [
    "# Example usage:\n",
    "payload = prepare_payload(\n",
    "    user_prompt=\"What tasks should I complete in order to make pasta?\",\n",
    "    sys_prompt=write_pm_prompt(),\n",
    ")\n",
    "print(\"Prepared payload:\", payload)"
   ]
  },
  {
   "cell_type": "markdown",
   "metadata": {},
   "source": [
    "## Step 6: Implementing the Agent\n",
    "\n",
    "### Creating a Simple Agent Class\n",
    "\n",
    "In this step, we define the `Agent` class, which is responsible for managing the state of the PM agent, interacting with the model, and processing the responses. This class encapsulates the core functionalities needed to execute tasks autonomously.\n",
    "\n",
    "### Key Components:\n",
    "- **Initialization (`__init__`)**: The constructor initializes the agent with its state, role, and model configuration. This setup is crucial for ensuring that the agent operates within the defined parameters and context.\n",
    "  \n",
    "- **Model Invocation (`invoke_model`)**: This method prepares the input payload, sends it to the model for processing, and handles the model's response. It's where the agent interacts with the LLM, using the system prompt and user prompt to generate meaningful outputs.\n",
    "\n",
    "- **Task Execution (`execute_task`)**: This method allows the agent to execute a specific task based on a user request. It utilizes the system prompt tailored for the task and processes the response generated by the model.\n",
    "\n",
    "The `Agent` class is fundamental in making our PM agent autonomous, enabling it to perform its duties without constant human oversight."
   ]
  },
  {
   "cell_type": "code",
   "execution_count": 100,
   "metadata": {},
   "outputs": [],
   "source": [
    "from langchain_core.messages.ai import AIMessage\n",
    "\n",
    "\n",
    "class Agent:\n",
    "    def __init__(self, state: AgentGraphState, role: str, model_config: dict):\n",
    "        \"\"\"\n",
    "        Initialize the Agent with a state, role, and model configuration.\n",
    "        \"\"\"\n",
    "        self.state = state\n",
    "        self.role = role\n",
    "        self.model_config = model_config\n",
    "\n",
    "    def invoke_model(\n",
    "        self,\n",
    "        sys_prompt: str,\n",
    "        user_prompt: str,\n",
    "    ):\n",
    "        \"\"\"\n",
    "        Prepare the payload, send the request to the model, and process the response.\n",
    "        \"\"\"\n",
    "        # Prepare the payload\n",
    "        payload = prepare_payload(user_prompt, sys_prompt, config=self.model_config)\n",
    "\n",
    "        # Invoke the model and get the response\n",
    "        response_json = request_model_generate_endpoint(\n",
    "            payload, config=self.model_config\n",
    "        )\n",
    "\n",
    "        # Process the model's response\n",
    "        response_content = process_model_response(response_json)\n",
    "\n",
    "        # Return the processed response\n",
    "        return response_content\n",
    "\n",
    "    def execute_task(self, user_request: str, feedback: str = \"\") -> str:\n",
    "        \"\"\"\n",
    "        Execute a simple task based on the user's request.\n",
    "        \"\"\"\n",
    "        # Define a simple system prompt\n",
    "        sys_prompt = write_pm_prompt(feedback_value=feedback)\n",
    "\n",
    "        # Invoke the model with the user's request\n",
    "        response = self.invoke_model(sys_prompt=sys_prompt, user_prompt=user_request)\n",
    "\n",
    "        # Return the processed response\n",
    "        return {\"response\": AIMessage(content=response)}"
   ]
  },
  {
   "cell_type": "markdown",
   "metadata": {},
   "source": [
    "## Step 7: Validating Agent Output\n",
    "\n",
    "### Ensuring Output Conforms to the Expected Structure\n",
    "\n",
    "To maintain the reliability and consistency of the PM agent, it's crucial to validate the output generated by the agent. In this step, we define a schema that outlines the expected structure of the tasks created by the PM agent. This schema includes fields like `task_id`, `task_name`, `task_description`, `agent`, `status`, and others, ensuring that each task is well-defined and follows a standardized format.\n",
    "\n",
    "### Validation Process:\n",
    "- **Validation Function (`validate_agent_output`)**: This function checks the agent's output against the predefined schema. If the output conforms to the schema, it is marked as validated. Otherwise, it returns feedback indicating the issues, which can then be used to adjust the agent's behavior.\n",
    "\n",
    "Validating the output ensures that the tasks generated by the PM agent are actionable and correctly formatted, which is essential for the smooth execution of the VM migration plan."
   ]
  },
  {
   "cell_type": "code",
   "execution_count": 101,
   "metadata": {},
   "outputs": [],
   "source": [
    "from jsonschema import validate, ValidationError\n",
    "\n",
    "# Example schema for validating the agent's output\n",
    "output_schema = {\n",
    "    \"type\": \"object\",\n",
    "    \"properties\": {\n",
    "        \"tasks\": {\n",
    "            \"type\": \"array\",\n",
    "            \"items\": {\n",
    "                \"type\": \"object\",\n",
    "                \"properties\": {\n",
    "                    \"task_id\": {\n",
    "                        \"type\": \"string\",  # Unique identifier for the task.\n",
    "                    },\n",
    "                    \"task_name\": {\n",
    "                        \"type\": \"string\",  # Short name of the task (e.g., \"Validate VMware Access\").\n",
    "                    },\n",
    "                    \"task_description\": {\n",
    "                        \"type\": \"string\",  # Detailed description of the task to be executed.\n",
    "                    },\n",
    "                    \"agent\": {\n",
    "                        \"type\": \"string\",\n",
    "                        \"enum\": [\n",
    "                            \"architect\",\n",
    "                            \"ocp_engineer\",\n",
    "                            \"vsphere_engineer\",\n",
    "                            \"networking\",\n",
    "                            \"reviewer\",\n",
    "                            \"cleanup\",\n",
    "                        ],  # Agent responsible for executing the task.\n",
    "                    },\n",
    "                    \"status\": {\n",
    "                        \"type\": \"string\",\n",
    "                        \"enum\": [\n",
    "                            \"pending\",\n",
    "                            \"in_progress\",\n",
    "                            \"completed\",\n",
    "                            \"failed\",\n",
    "                        ],  # Current status of the task.\n",
    "                    },\n",
    "                    \"dependencies\": {\n",
    "                        \"type\": \"array\",\n",
    "                        \"items\": {\n",
    "                            \"type\": \"string\",  # Task IDs that must be completed before this task can start.\n",
    "                        },\n",
    "                        \"default\": [],  # Default is an empty array if there are no dependencies.\n",
    "                    },\n",
    "                    \"acceptance_criteria\": {\n",
    "                        \"type\": \"string\",  # Criteria that must be met to consider the task successfully completed.\n",
    "                    },\n",
    "                    \"tool_to_use\": {\n",
    "                        \"type\": [\n",
    "                            \"string\",\n",
    "                            \"null\",\n",
    "                        ],  # The tool the agent should use, or null if no tool is required.\n",
    "                        \"default\": None,  # Default is None if no tool is specified.\n",
    "                    },\n",
    "                    \"provided_inputs\": {\n",
    "                        \"type\": \"object\",  # Input data needed for this task.\n",
    "                        \"additionalProperties\": {\n",
    "                            \"type\": [\"null\", \"string\", \"array\"],\n",
    "                            \"items\": {\"type\": \"string\"},\n",
    "                        },\n",
    "                        \"default\": {},  # Default is an empty object if no inputs are provided.\n",
    "                    },\n",
    "                },\n",
    "                \"required\": [\n",
    "                    \"task_id\",\n",
    "                    \"task_name\",\n",
    "                    \"task_description\",\n",
    "                    \"agent\",\n",
    "                    \"status\",\n",
    "                    \"acceptance_criteria\",\n",
    "                ],  # Dependencies, tool_to_use, and provided_inputs are optional.\n",
    "            },\n",
    "        }\n",
    "    },\n",
    "    \"required\": [\"tasks\"],\n",
    "}"
   ]
  },
  {
   "cell_type": "code",
   "execution_count": 102,
   "metadata": {},
   "outputs": [],
   "source": [
    "from langchain_core.messages import SystemMessage\n",
    "\n",
    "\n",
    "def validate_agent_output(state: AgentGraphState, schema: dict = output_schema):\n",
    "    \"\"\"\n",
    "    Validate the agent's output against the provided schema.\n",
    "    \"\"\"\n",
    "    plan = state[\"response\"]\n",
    "    plan_content = plan[-1].content\n",
    "    json_plan = json.loads(plan_content)\n",
    "    try:\n",
    "        validate(instance=json_plan, schema=schema)\n",
    "        return {\"validated\": True, \"feedback\": SystemMessage(content=\"LGTM!\")}\n",
    "    except ValidationError as e:\n",
    "        return {\"validated\": False, \"feedback\": SystemMessage(content=e.message)}"
   ]
  },
  {
   "cell_type": "markdown",
   "metadata": {},
   "source": [
    "## Step 8: Workflow Execution Logic\n",
    "\n",
    "### Determining Workflow Continuation\n",
    "\n",
    "After validating the agent's output, we need to decide whether the workflow should continue or if it should conclude. This decision is based on the validation status of the agent's output.\n",
    "\n",
    "### Key Function:\n",
    "- **`should_continue`**: This function assesses whether the workflow should proceed based on whether the output was successfully validated. If validation is successful, the workflow ends; otherwise, it loops back to allow for adjustments and re-validation.\n",
    "\n",
    "This logic ensures that only validated and correct outputs are used in the migration process, maintaining the integrity of the entire workflow."
   ]
  },
  {
   "cell_type": "code",
   "execution_count": 103,
   "metadata": {},
   "outputs": [],
   "source": [
    "from langgraph.graph import END\n",
    "\n",
    "def should_continue(state):\n",
    "    # Determine the next step based on the verification status\n",
    "\n",
    "    if state[\"validated\"]:\n",
    "        return END\n",
    "    else:\n",
    "        return \"pm\""
   ]
  },
  {
   "cell_type": "markdown",
   "metadata": {},
   "source": [
    "## Step 9: Creating and Compiling the Workflow Graph\n",
    "\n",
    "### Constructing the PM Agent's Workflow\n",
    "\n",
    "In this step, we build the workflow graph that represents the PM agent's process. This graph outlines the sequence of operations, including task execution, validation, and decision-making.\n",
    "\n",
    "### Key Components:\n",
    "- **Node Definitions**: Each node in the graph represents a step in the workflow, such as invoking the PM agent or validating the output.\n",
    "  \n",
    "- **Edge Definitions**: Edges define the flow between nodes, determining how the agent progresses through the tasks and validation steps.\n",
    "\n",
    "- **Workflow Compilation**: Once the graph is defined, it is compiled into a workflow that can be executed. This compiled workflow represents the full sequence of operations that the PM agent will follow to manage the VM migration.\n",
    "\n",
    "By constructing and compiling this workflow graph, we ensure that the PM agent operates in a structured and efficient manner, handling tasks and making decisions in a logical sequence."
   ]
  },
  {
   "cell_type": "code",
   "execution_count": 104,
   "metadata": {},
   "outputs": [],
   "source": [
    "def pm_node_function(state: AgentGraphState):\n",
    "    pm = Agent(\n",
    "        state=state,\n",
    "        role=\"PM\",\n",
    "        model_config=ollama_config,\n",
    "    )\n",
    "\n",
    "    if state[\"feedback\"]:\n",
    "        last_feedback = state[\"feedback\"][-1].content\n",
    "    else:\n",
    "        last_feedback = None  # or some other default value\n",
    "\n",
    "    return pm.execute_task(user_request=state[\"input\"], feedback=last_feedback)"
   ]
  },
  {
   "cell_type": "code",
   "execution_count": 105,
   "metadata": {},
   "outputs": [],
   "source": [
    "from langgraph.graph import StateGraph, START\n",
    "\n",
    "def create_graph() -> StateGraph:\n",
    "    \"\"\"\n",
    "    Create the state graph by defining nodes and edges.\n",
    "\n",
    "    Returns:\n",
    "    - StateGraph: The compiled state graph ready for execution.\n",
    "    \"\"\"\n",
    "    graph = StateGraph(AgentGraphState)\n",
    "\n",
    "    # Add nodes\n",
    "    graph.add_node(\"pm\", pm_node_function)\n",
    "    graph.add_node(\"validate\", lambda state: validate_agent_output(state=state))\n",
    "\n",
    "    # Define the flow of the graph\n",
    "    graph.add_edge(START, \"pm\")\n",
    "    graph.add_edge(\"pm\", \"validate\")\n",
    "    graph.add_conditional_edges(\"validate\", should_continue)\n",
    "    # graph.add_edge(\"validate\", END)\n",
    "\n",
    "    return graph"
   ]
  },
  {
   "cell_type": "markdown",
   "metadata": {},
   "source": [
    "### Initializing Sqlite Persistence for Graph State\n",
    "\n",
    "In this cell, we define and use a method to initialize an `SqliteSaver` instance from the `langgraph.checkpoint.sqlite` module. The `SqliteSaver` class allows the graph state to be persisted in an SQLite database, which is more durable and suitable for applications requiring longer-term storage compared to an in-memory solution.\n",
    "\n",
    "The `from_conn_stringx` method is defined as a class method that takes a connection string as input, creates a connection to the SQLite database using `sqlite3.connect`, and then returns an `SqliteSaver` instance using this connection. This method simplifies the creation of an `SqliteSaver` instance directly from a connection string.\n",
    "\n",
    "This approach is particularly useful for ensuring that the state of the `StateGraph` is saved to a local or memory-based SQLite database, enabling the retention of context across multiple interactions in AI-driven applications."
   ]
  },
  {
   "cell_type": "code",
   "execution_count": 106,
   "metadata": {},
   "outputs": [],
   "source": [
    "from langgraph.checkpoint.sqlite import SqliteSaver\n",
    "import sqlite3\n",
    "\n",
    "def from_conn_stringx(cls, conn_string: str,) -> \"SqliteSaver\":\n",
    "    return SqliteSaver(conn=sqlite3.connect(conn_string, check_same_thread=False))\n",
    "\n",
    "SqliteSaver.from_conn_stringx=classmethod(from_conn_stringx)\n",
    "\n",
    "memory = SqliteSaver.from_conn_stringx(\":memory:\")"
   ]
  },
  {
   "cell_type": "markdown",
   "metadata": {},
   "source": [
    "## Step 10: Executing the Workflow\n",
    "\n",
    "With the workflow graph compiled, the final step is to execute the workflow. This involves providing the agent with an input query, such as a request to generate a VM migration plan, and allowing the workflow to run through its defined sequence."
   ]
  },
  {
   "cell_type": "markdown",
   "metadata": {},
   "source": [
    "### Creating and Running the Workflow\n",
    "\n",
    "In this step, we create and execute the PM agent's workflow to process a set of tasks.\n",
    "\n",
    "- **Graph Creation**: \n",
    "  - We first create the workflow graph using `create_graph()` and compile it with a memory-based checkpoint.\n",
    "  - The compiled workflow will manage the task execution, validation, and feedback handling.\n",
    "\n",
    "- **Workflow Parameters**:\n",
    "  - We define the number of iterations (`iterations = 10`), set verbose mode to `True`, and configure the thread ID.\n",
    "  - A query containing three tasks (VM details retrieval, migration plan creation, and migration start) is provided as input.\n",
    "\n",
    "- **Workflow Execution**:\n",
    "  - The workflow is executed using `workflow.stream()`, and it processes each task sequentially.\n",
    "  - Depending on the state of the workflow, feedback or task responses are printed to track progress.\n",
    "\n",
    "This step runs the agent through the defined tasks and prints the state changes for each event in the workflow."
   ]
  },
  {
   "cell_type": "code",
   "execution_count": 107,
   "metadata": {},
   "outputs": [
    {
     "name": "stdout",
     "output_type": "stream",
     "text": [
      "Graph and workflow created.\n"
     ]
    }
   ],
   "source": [
    "# Create the graph and compile the workflow\n",
    "graph = create_graph()\n",
    "workflow = graph.compile(checkpointer=memory, interrupt_before=[\"validate\"])\n",
    "print(\"Graph and workflow created.\")\n",
    "\n",
    "# Define workflow parameters\n",
    "iterations = 10\n",
    "verbose = True\n",
    "config = {\"configurable\": {\"thread_id\": \"1\"}}"
   ]
  },
  {
   "cell_type": "markdown",
   "metadata": {},
   "source": [
    "### Running the Workflow: Initial Execution\n",
    "\n",
    "- In the first step, we execute the workflow but stop **before validation**. This allows us to run the agent through the tasks up to the point where the output needs to be validated.\n",
    "- The workflow processes the input tasks and prints the state changes, such as feedback or task responses from the PM agent.\n",
    "- The execution stops before validation, allowing us to inspect the tasks generated so far.\n"
   ]
  },
  {
   "cell_type": "code",
   "execution_count": 108,
   "metadata": {},
   "outputs": [
    {
     "name": "stdout",
     "output_type": "stream",
     "text": [
      "==================================\u001b[1m Ai Message \u001b[0m==================================\n",
      "\n",
      "{\n",
      "    \"tasks\": [\n",
      "        {\n",
      "            \"task_id\": \"task_001\",\n",
      "            \"task_name\": \"Retrieve VM Details (Database)\",\n",
      "            \"task_description\": \"The vSphere engineer will retrieve the details of the virtual machine named 'database'.\",\n",
      "            \"agent\": \"vsphere_engineer\",\n",
      "            \"status\": \"pending\",\n",
      "            \"dependencies\": [],\n",
      "            \"acceptance_criteria\": \"VM details retrieved successfully.\",\n",
      "            \"tool_to_use\": \"retrieve_vm_details_tool\"\n",
      "        },\n",
      "        {\n",
      "            \"task_id\": \"task_002\",\n",
      "            \"task_name\": \"Create Migration Plan (Database)\",\n",
      "            \"task_description\": \"The OCP Engineer will create a migration plan (vm_name: database) called 'database-plan'.\",\n",
      "            \"agent\": \"ocp_engineer\",\n",
      "            \"status\": \"pending\",\n",
      "            \"dependencies\": [\n",
      "                \"task_001\"\n",
      "            ],\n",
      "            \"acceptance_criteria\": \"Migration plan created and validated.\",\n",
      "            \"tool_to_use\": \"create_migration_plan_tool\",\n",
      "            \"provided_inputs\": {\n",
      "                \"vm_name\": \"database\"\n",
      "            }\n",
      "        },\n",
      "        {\n",
      "            \"task_id\": \"task_003\",\n",
      "            \"task_name\": \"Start Migration (Database)\",\n",
      "            \"task_description\": \"The OCP Engineer will start the 'database-plan'.\",\n",
      "            \"agent\": \"ocp_engineer\",\n",
      "            \"status\": \"pending\",\n",
      "            \"dependencies\": [\n",
      "                \"task_002\"\n",
      "            ],\n",
      "            \"acceptance_criteria\": \"Migration process successfully started.\",\n",
      "            \"tool_to_use\": \"start_migration_tool\"\n",
      "        }\n",
      "    ]\n",
      "}\n"
     ]
    }
   ],
   "source": [
    "query = \"These are three tasks.  First task: The vSphere engineer will Retrieve the VM details of the vm called database. Don't forget the second Task: The OCP Engineer will Create a migration plan (vm_name: database) called 'database-plan'. Third task: The Ocp engineer will start the 'database-plan'. Just do this. Treat this as THREE differents tasks\"\n",
    "dict_inputs = {\"input\": query}\n",
    "limit = {\"recursion_limit\": iterations}\n",
    "\n",
    "# Execute the workflow and print state changes\n",
    "for event in workflow.stream(dict_inputs, config):\n",
    "    if verbose:\n",
    "        if \"validate\" in event:\n",
    "            event[\"validate\"][\"feedback\"].pretty_print()\n",
    "        elif \"pm\" in event:\n",
    "            event[\"pm\"][\"response\"].pretty_print()\n",
    "        else:\n",
    "            print(\"\\nEvent:\", event)\n",
    "    else:\n",
    "        print(\"\\n\")"
   ]
  },
  {
   "cell_type": "code",
   "execution_count": 109,
   "metadata": {},
   "outputs": [
    {
     "name": "stdout",
     "output_type": "stream",
     "text": [
      "{\n",
      "    \"input\": \"These are three tasks.  First task: The vSphere engineer will Retrieve the VM details of the vm called database. Don't forget the second Task: The OCP Engineer will Create a migration plan (vm_name: database) called 'database-plan'. Third task: The Ocp engineer will start the 'database-plan'. Just do this. Treat this as THREE differents tasks\",\n",
      "    \"response\": [\n",
      "        {\n",
      "            \"content\": \"{\\n    \\\"tasks\\\": [\\n        {\\n            \\\"task_id\\\": \\\"task_001\\\",\\n            \\\"task_name\\\": \\\"Retrieve VM Details (Database)\\\",\\n            \\\"task_description\\\": \\\"The vSphere engineer will retrieve the details of the virtual machine named 'database'.\\\",\\n            \\\"agent\\\": \\\"vsphere_engineer\\\",\\n            \\\"status\\\": \\\"pending\\\",\\n            \\\"dependencies\\\": [],\\n            \\\"acceptance_criteria\\\": \\\"VM details retrieved successfully.\\\",\\n            \\\"tool_to_use\\\": \\\"retrieve_vm_details_tool\\\"\\n        },\\n        {\\n            \\\"task_id\\\": \\\"task_002\\\",\\n            \\\"task_name\\\": \\\"Create Migration Plan (Database)\\\",\\n            \\\"task_description\\\": \\\"The OCP Engineer will create a migration plan (vm_name: database) called 'database-plan'.\\\",\\n            \\\"agent\\\": \\\"ocp_engineer\\\",\\n            \\\"status\\\": \\\"pending\\\",\\n            \\\"dependencies\\\": [\\n                \\\"task_001\\\"\\n            ],\\n            \\\"acceptance_criteria\\\": \\\"Migration plan created and validated.\\\",\\n            \\\"tool_to_use\\\": \\\"create_migration_plan_tool\\\",\\n            \\\"provided_inputs\\\": {\\n                \\\"vm_name\\\": \\\"database\\\"\\n            }\\n        },\\n        {\\n            \\\"task_id\\\": \\\"task_003\\\",\\n            \\\"task_name\\\": \\\"Start Migration (Database)\\\",\\n            \\\"task_description\\\": \\\"The OCP Engineer will start the 'database-plan'.\\\",\\n            \\\"agent\\\": \\\"ocp_engineer\\\",\\n            \\\"status\\\": \\\"pending\\\",\\n            \\\"dependencies\\\": [\\n                \\\"task_002\\\"\\n            ],\\n            \\\"acceptance_criteria\\\": \\\"Migration process successfully started.\\\",\\n            \\\"tool_to_use\\\": \\\"start_migration_tool\\\"\\n        }\\n    ]\\n}\",\n",
      "            \"id\": \"27d56db4-f069-436e-95a5-87d7cc81ca17\"\n",
      "        }\n",
      "    ],\n",
      "    \"feedback\": []\n",
      "}\n",
      "('validate',)\n"
     ]
    }
   ],
   "source": [
    "def custom_serializer(obj):\n",
    "    if isinstance(obj, AIMessage):\n",
    "        return {\n",
    "            'content': obj.content,\n",
    "            'id': obj.id,\n",
    "            # Add other attributes as needed\n",
    "        }\n",
    "    elif isinstance(obj, SystemMessage):\n",
    "        return {\n",
    "            'content': obj.content,\n",
    "            'id': obj.id,\n",
    "            # Add other attributes as needed\n",
    "        }\n",
    "    # Add other custom class serializations here\n",
    "    else:\n",
    "        return str(obj)  # Fallback to string conversion if not recognized\n",
    "    \n",
    "state_snapshot = workflow.get_state(config)\n",
    "\n",
    "print(json.dumps(state_snapshot.values, indent=4, default=custom_serializer))\n",
    "\n",
    "print(state_snapshot.next)"
   ]
  },
  {
   "cell_type": "markdown",
   "metadata": {},
   "source": [
    "### Continuing the Workflow: Validation Phase\n",
    "\n",
    "- After stopping before validation, we now run the workflow again to **continue the process and validate** the agent's output.\n",
    "- During this phase, the workflow performs the validation of the task responses and prints feedback on whether the tasks meet the required criteria.\n",
    "- This two-step execution allows us to break the workflow into distinct phases: task generation and output validation."
   ]
  },
  {
   "cell_type": "code",
   "execution_count": 110,
   "metadata": {},
   "outputs": [
    {
     "name": "stdout",
     "output_type": "stream",
     "text": [
      "================================\u001b[1m System Message \u001b[0m================================\n",
      "\n",
      "LGTM!\n"
     ]
    }
   ],
   "source": [
    "# Execute the workflow and print state changes\n",
    "for event in workflow.stream(None, config):\n",
    "    if verbose:\n",
    "        if \"validate\" in event:\n",
    "            event[\"validate\"][\"feedback\"].pretty_print()\n",
    "        elif \"pm\" in event:\n",
    "            event[\"pm\"][\"response\"].pretty_print()\n",
    "        else:\n",
    "            print(\"\\nEvent:\", event)\n",
    "    else:\n",
    "        print(\"\\n\")"
   ]
  },
  {
   "cell_type": "code",
   "execution_count": 111,
   "metadata": {},
   "outputs": [
    {
     "name": "stdout",
     "output_type": "stream",
     "text": [
      "{\n",
      "    \"input\": \"These are three tasks.  First task: The vSphere engineer will Retrieve the VM details of the vm called database. Don't forget the second Task: The OCP Engineer will Create a migration plan (vm_name: database) called 'database-plan'. Third task: The Ocp engineer will start the 'database-plan'. Just do this. Treat this as THREE differents tasks\",\n",
      "    \"response\": [\n",
      "        {\n",
      "            \"content\": \"{\\n    \\\"tasks\\\": [\\n        {\\n            \\\"task_id\\\": \\\"task_001\\\",\\n            \\\"task_name\\\": \\\"Retrieve VM Details (Database)\\\",\\n            \\\"task_description\\\": \\\"The vSphere engineer will retrieve the details of the virtual machine named 'database'.\\\",\\n            \\\"agent\\\": \\\"vsphere_engineer\\\",\\n            \\\"status\\\": \\\"pending\\\",\\n            \\\"dependencies\\\": [],\\n            \\\"acceptance_criteria\\\": \\\"VM details retrieved successfully.\\\",\\n            \\\"tool_to_use\\\": \\\"retrieve_vm_details_tool\\\"\\n        },\\n        {\\n            \\\"task_id\\\": \\\"task_002\\\",\\n            \\\"task_name\\\": \\\"Create Migration Plan (Database)\\\",\\n            \\\"task_description\\\": \\\"The OCP Engineer will create a migration plan (vm_name: database) called 'database-plan'.\\\",\\n            \\\"agent\\\": \\\"ocp_engineer\\\",\\n            \\\"status\\\": \\\"pending\\\",\\n            \\\"dependencies\\\": [\\n                \\\"task_001\\\"\\n            ],\\n            \\\"acceptance_criteria\\\": \\\"Migration plan created and validated.\\\",\\n            \\\"tool_to_use\\\": \\\"create_migration_plan_tool\\\",\\n            \\\"provided_inputs\\\": {\\n                \\\"vm_name\\\": \\\"database\\\"\\n            }\\n        },\\n        {\\n            \\\"task_id\\\": \\\"task_003\\\",\\n            \\\"task_name\\\": \\\"Start Migration (Database)\\\",\\n            \\\"task_description\\\": \\\"The OCP Engineer will start the 'database-plan'.\\\",\\n            \\\"agent\\\": \\\"ocp_engineer\\\",\\n            \\\"status\\\": \\\"pending\\\",\\n            \\\"dependencies\\\": [\\n                \\\"task_002\\\"\\n            ],\\n            \\\"acceptance_criteria\\\": \\\"Migration process successfully started.\\\",\\n            \\\"tool_to_use\\\": \\\"start_migration_tool\\\"\\n        }\\n    ]\\n}\",\n",
      "            \"id\": \"27d56db4-f069-436e-95a5-87d7cc81ca17\"\n",
      "        }\n",
      "    ],\n",
      "    \"feedback\": [\n",
      "        {\n",
      "            \"content\": \"LGTM!\",\n",
      "            \"id\": \"dce42c31-6aa2-48e7-a07d-0f4949d9dcd8\"\n",
      "        }\n",
      "    ],\n",
      "    \"validated\": true\n",
      "}\n"
     ]
    }
   ],
   "source": [
    "state_snapshot = workflow.get_state(config)\n",
    "\n",
    "print(json.dumps(state_snapshot.values, indent=4, default=custom_serializer))"
   ]
  },
  {
   "cell_type": "markdown",
   "metadata": {},
   "source": [
    "### Saving the Agent's Output to a File\n",
    "\n",
    "In this step, we define a function, `save_json_to_file`, that allows us to save the generated JSON plan to a file. This function is important for persisting the agent's output for future reference or external use.\n",
    "\n",
    "This step ensures that the final migration plan is saved in a persistent format for further analysis or use."
   ]
  },
  {
   "cell_type": "code",
   "execution_count": 113,
   "metadata": {},
   "outputs": [
    {
     "name": "stdout",
     "output_type": "stream",
     "text": [
      "The plan is validated!\n",
      "{\n",
      "    \"tasks\": [\n",
      "        {\n",
      "            \"task_id\": \"task_001\",\n",
      "            \"task_name\": \"Retrieve VM Details (Database)\",\n",
      "            \"task_description\": \"The vSphere engineer will retrieve the details of the virtual machine named 'database'.\",\n",
      "            \"agent\": \"vsphere_engineer\",\n",
      "            \"status\": \"pending\",\n",
      "            \"dependencies\": [],\n",
      "            \"acceptance_criteria\": \"VM details retrieved successfully.\",\n",
      "            \"tool_to_use\": \"retrieve_vm_details_tool\"\n",
      "        },\n",
      "        {\n",
      "            \"task_id\": \"task_002\",\n",
      "            \"task_name\": \"Create Migration Plan (Database)\",\n",
      "            \"task_description\": \"The OCP Engineer will create a migration plan (vm_name: database) called 'database-plan'.\",\n",
      "            \"agent\": \"ocp_engineer\",\n",
      "            \"status\": \"pending\",\n",
      "            \"dependencies\": [\n",
      "                \"task_001\"\n",
      "            ],\n",
      "            \"acceptance_criteria\": \"Migration plan created and validated.\",\n",
      "            \"tool_to_use\": \"create_migration_plan_tool\",\n",
      "            \"provided_inputs\": {\n",
      "                \"vm_name\": \"database\"\n",
      "            }\n",
      "        },\n",
      "        {\n",
      "            \"task_id\": \"task_003\",\n",
      "            \"task_name\": \"Start Migration (Database)\",\n",
      "            \"task_description\": \"The OCP Engineer will start the 'database-plan'.\",\n",
      "            \"agent\": \"ocp_engineer\",\n",
      "            \"status\": \"pending\",\n",
      "            \"dependencies\": [\n",
      "                \"task_002\"\n",
      "            ],\n",
      "            \"acceptance_criteria\": \"Migration process successfully started.\",\n",
      "            \"tool_to_use\": \"start_migration_tool\"\n",
      "        }\n",
      "    ]\n",
      "}\n",
      "JSON saved successfully to data/json_plan_output.json\n"
     ]
    }
   ],
   "source": [
    "def save_json_to_file(json_plan, filename=\"\"):\n",
    "    try:\n",
    "        # Save the content of json_plan to a file\n",
    "        with open(filename, 'w') as file:\n",
    "            json.dump(json_plan, file, indent=4)\n",
    "        print(f\"JSON saved successfully to {filename}\")\n",
    "    except Exception as e:\n",
    "        print(f\"An error occurred while saving the file: {e}\")\n",
    "\n",
    "if(state_snapshot.values[\"validated\"]):\n",
    "    print(\"The plan is validated!\")\n",
    "    json_plan = state_snapshot.values[\"response\"][0].content\n",
    "    content_dict = json.loads(json_plan)\n",
    "    print(json.dumps(content_dict, indent=4))\n",
    "    save_json_to_file(content_dict, \"data/json_plan_output.json\")\n",
    "else:\n",
    "    print(\"The plan is not validated!\")"
   ]
  },
  {
   "cell_type": "markdown",
   "metadata": {},
   "source": [
    "## Conclusion\n",
    "\n",
    "In this notebook, we've successfully implemented a PM agent capable of managing a VM migration plan autonomously. Through careful state management, effective use of system prompts, and a structured workflow graph, the agent can execute tasks, handle feedback, and adapt to changing requirements dynamically. This approach not only streamlines the migration process but also ensures that all tasks are executed efficiently and correctly."
   ]
  }
 ],
 "metadata": {
  "kernelspec": {
   "display_name": "Python 3",
   "language": "python",
   "name": "python3"
  },
  "language_info": {
   "codemirror_mode": {
    "name": "ipython",
    "version": 3
   },
   "file_extension": ".py",
   "mimetype": "text/x-python",
   "name": "python",
   "nbconvert_exporter": "python",
   "pygments_lexer": "ipython3",
   "version": "3.11.9"
  }
 },
 "nbformat": 4,
 "nbformat_minor": 2
}
