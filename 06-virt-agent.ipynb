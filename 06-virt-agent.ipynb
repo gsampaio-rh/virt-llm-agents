{
 "cells": [
  {
   "cell_type": "markdown",
   "metadata": {},
   "source": [
    "# Virtual Machine Workflow Agent\n",
    "\n",
    "## Overview\n",
    "\n",
    "This notebook demonstrates how to build an AI-powered workflow agent that interacts with vSphere, lists available virtual machines (VMs), retrieves their details, and processes commands using a machine learning model. The agent also integrates with custom tools and persists workflow data using SQLite. Each step is carefully broken down, and instructions are provided for users who may be new to the components involved."
   ]
  },
  {
   "cell_type": "markdown",
   "metadata": {},
   "source": [
    "## 1. Setup\n",
    "\n",
    "### Installing Required Packages\n",
    "\n",
    "Before we begin, we need to install several Python libraries that are critical for this workflow. These libraries will allow us to:\n",
    "- **`langchain`**: A framework for building language models and agents.\n",
    "- **`langgraph`**: A library for creating AI-driven workflows.\n",
    "- **`requests`**: For sending HTTP requests.\n",
    "- **`pyvmomi`**: For interacting with the vSphere API.\n",
    "- **`dotenv`**: For managing environment variables.\n",
    "\n",
    "The `%pip install` command ensures all necessary packages are installed."
   ]
  },
  {
   "cell_type": "code",
   "execution_count": 22,
   "metadata": {},
   "outputs": [
    {
     "name": "stdout",
     "output_type": "stream",
     "text": [
      "Requirement already satisfied: langchain in ./.conda/lib/python3.11/site-packages (0.2.16)\n",
      "Requirement already satisfied: langgraph in ./.conda/lib/python3.11/site-packages (0.2.16)\n",
      "Requirement already satisfied: langgraph-checkpoint-sqlite in ./.conda/lib/python3.11/site-packages (1.0.3)\n",
      "Requirement already satisfied: requests in ./.conda/lib/python3.11/site-packages (2.32.3)\n",
      "Requirement already satisfied: termcolor in ./.conda/lib/python3.11/site-packages (2.4.0)\n",
      "Requirement already satisfied: pyvmomi in ./.conda/lib/python3.11/site-packages (8.0.3.0.1)\n",
      "Requirement already satisfied: python-dotenv in ./.conda/lib/python3.11/site-packages (1.0.1)\n",
      "Requirement already satisfied: PyYAML>=5.3 in ./.conda/lib/python3.11/site-packages (from langchain) (6.0.2)\n",
      "Requirement already satisfied: SQLAlchemy<3,>=1.4 in ./.conda/lib/python3.11/site-packages (from langchain) (2.0.34)\n",
      "Requirement already satisfied: aiohttp<4.0.0,>=3.8.3 in ./.conda/lib/python3.11/site-packages (from langchain) (3.10.5)\n",
      "Requirement already satisfied: langchain-core<0.3.0,>=0.2.38 in ./.conda/lib/python3.11/site-packages (from langchain) (0.2.38)\n",
      "Requirement already satisfied: langchain-text-splitters<0.3.0,>=0.2.0 in ./.conda/lib/python3.11/site-packages (from langchain) (0.2.4)\n",
      "Requirement already satisfied: langsmith<0.2.0,>=0.1.17 in ./.conda/lib/python3.11/site-packages (from langchain) (0.1.110)\n",
      "Requirement already satisfied: numpy<2,>=1 in ./.conda/lib/python3.11/site-packages (from langchain) (1.26.4)\n",
      "Requirement already satisfied: pydantic<3,>=1 in ./.conda/lib/python3.11/site-packages (from langchain) (2.8.2)\n",
      "Requirement already satisfied: tenacity!=8.4.0,<9.0.0,>=8.1.0 in ./.conda/lib/python3.11/site-packages (from langchain) (8.5.0)\n",
      "Requirement already satisfied: langgraph-checkpoint<2.0.0,>=1.0.2 in ./.conda/lib/python3.11/site-packages (from langgraph) (1.0.8)\n",
      "Requirement already satisfied: aiosqlite<0.21.0,>=0.20.0 in ./.conda/lib/python3.11/site-packages (from langgraph-checkpoint-sqlite) (0.20.0)\n",
      "Requirement already satisfied: charset-normalizer<4,>=2 in ./.conda/lib/python3.11/site-packages (from requests) (3.3.2)\n",
      "Requirement already satisfied: idna<4,>=2.5 in ./.conda/lib/python3.11/site-packages (from requests) (3.8)\n",
      "Requirement already satisfied: urllib3<3,>=1.21.1 in ./.conda/lib/python3.11/site-packages (from requests) (2.2.2)\n",
      "Requirement already satisfied: certifi>=2017.4.17 in ./.conda/lib/python3.11/site-packages (from requests) (2024.8.30)\n",
      "Requirement already satisfied: six>=1.7.3 in ./.conda/lib/python3.11/site-packages (from pyvmomi) (1.16.0)\n",
      "Requirement already satisfied: aiohappyeyeballs>=2.3.0 in ./.conda/lib/python3.11/site-packages (from aiohttp<4.0.0,>=3.8.3->langchain) (2.4.0)\n",
      "Requirement already satisfied: aiosignal>=1.1.2 in ./.conda/lib/python3.11/site-packages (from aiohttp<4.0.0,>=3.8.3->langchain) (1.3.1)\n",
      "Requirement already satisfied: attrs>=17.3.0 in ./.conda/lib/python3.11/site-packages (from aiohttp<4.0.0,>=3.8.3->langchain) (24.2.0)\n",
      "Requirement already satisfied: frozenlist>=1.1.1 in ./.conda/lib/python3.11/site-packages (from aiohttp<4.0.0,>=3.8.3->langchain) (1.4.1)\n",
      "Requirement already satisfied: multidict<7.0,>=4.5 in ./.conda/lib/python3.11/site-packages (from aiohttp<4.0.0,>=3.8.3->langchain) (6.0.5)\n",
      "Requirement already satisfied: yarl<2.0,>=1.0 in ./.conda/lib/python3.11/site-packages (from aiohttp<4.0.0,>=3.8.3->langchain) (1.9.8)\n",
      "Requirement already satisfied: typing_extensions>=4.0 in ./.conda/lib/python3.11/site-packages (from aiosqlite<0.21.0,>=0.20.0->langgraph-checkpoint-sqlite) (4.12.2)\n",
      "Requirement already satisfied: jsonpatch<2.0,>=1.33 in ./.conda/lib/python3.11/site-packages (from langchain-core<0.3.0,>=0.2.38->langchain) (1.33)\n",
      "Requirement already satisfied: packaging<25,>=23.2 in ./.conda/lib/python3.11/site-packages (from langchain-core<0.3.0,>=0.2.38->langchain) (24.1)\n",
      "Requirement already satisfied: httpx<1,>=0.23.0 in ./.conda/lib/python3.11/site-packages (from langsmith<0.2.0,>=0.1.17->langchain) (0.27.2)\n",
      "Requirement already satisfied: orjson<4.0.0,>=3.9.14 in ./.conda/lib/python3.11/site-packages (from langsmith<0.2.0,>=0.1.17->langchain) (3.10.7)\n",
      "Requirement already satisfied: annotated-types>=0.4.0 in ./.conda/lib/python3.11/site-packages (from pydantic<3,>=1->langchain) (0.7.0)\n",
      "Requirement already satisfied: pydantic-core==2.20.1 in ./.conda/lib/python3.11/site-packages (from pydantic<3,>=1->langchain) (2.20.1)\n",
      "Requirement already satisfied: anyio in ./.conda/lib/python3.11/site-packages (from httpx<1,>=0.23.0->langsmith<0.2.0,>=0.1.17->langchain) (4.4.0)\n",
      "Requirement already satisfied: httpcore==1.* in ./.conda/lib/python3.11/site-packages (from httpx<1,>=0.23.0->langsmith<0.2.0,>=0.1.17->langchain) (1.0.5)\n",
      "Requirement already satisfied: sniffio in ./.conda/lib/python3.11/site-packages (from httpx<1,>=0.23.0->langsmith<0.2.0,>=0.1.17->langchain) (1.3.1)\n",
      "Requirement already satisfied: h11<0.15,>=0.13 in ./.conda/lib/python3.11/site-packages (from httpcore==1.*->httpx<1,>=0.23.0->langsmith<0.2.0,>=0.1.17->langchain) (0.14.0)\n",
      "Requirement already satisfied: jsonpointer>=1.9 in ./.conda/lib/python3.11/site-packages (from jsonpatch<2.0,>=1.33->langchain-core<0.3.0,>=0.2.38->langchain) (3.0.0)\n",
      "Note: you may need to restart the kernel to use updated packages.\n"
     ]
    }
   ],
   "source": [
    "%pip install langchain langgraph langgraph-checkpoint-sqlite requests termcolor pyvmomi python-dotenv"
   ]
  },
  {
   "cell_type": "markdown",
   "metadata": {},
   "source": [
    "## 2. Building Blocks\n",
    "\n",
    "### vSphere Configuration\n",
    "\n",
    "Here, we set up the configuration for connecting to vSphere, which is VMware's cloud infrastructure platform. We use environment variables to securely store connection details, such as the vSphere host, username, and password. These are loaded using the `dotenv` library to avoid hardcoding sensitive information in the script."
   ]
  },
  {
   "cell_type": "code",
   "execution_count": 23,
   "metadata": {},
   "outputs": [],
   "source": [
    "from dotenv import load_dotenv\n",
    "import os\n",
    "\n",
    "load_dotenv()\n",
    "\n",
    "vsphere_config = {\n",
    "    \"host\": os.getenv(\"VSPHERE_HOST\"),\n",
    "    \"username\": os.getenv(\"VSPHERE_USERNAME\"),\n",
    "    \"password\": os.getenv(\"VSPHERE_PASSWORD\"),\n",
    "}"
   ]
  },
  {
   "cell_type": "markdown",
   "metadata": {},
   "source": [
    "### Testing Connectivity to vSphere\n",
    "\n",
    "In this section, we test the connection to the vSphere environment using the credentials provided in the previous configuration step. The goal is to ensure that we can successfully connect to vSphere, retrieve all virtual machines (VMs), and print their names. We use the following methods from the `vsphere_utils` module:\n",
    "\n",
    "- **`connect_to_vsphere`**: Establishes a connection to the vSphere environment.\n",
    "- **`get_all_vms`**: Retrieves a list of all VMs in the connected vSphere environment.\n",
    "- **`disconnect_from_vsphere`**: Safely disconnects from vSphere to free up resources.\n",
    "\n",
    "**Steps**:\n",
    "1. **Connect to vSphere** using the host, username, and password stored in the `vsphere_config`.\n",
    "2. **Retrieve all VMs** using the `get_all_vms` function, which returns a list of VMs and their names.\n",
    "3. **Handle errors**: If there's an issue connecting to vSphere or retrieving VMs, an exception will be caught, and an error message will be displayed.\n",
    "4. **Disconnect**: After the operation is complete (or if an error occurs), the connection to vSphere is closed using `disconnect_from_vsphere`.\n"
   ]
  },
  {
   "cell_type": "code",
   "execution_count": 24,
   "metadata": {},
   "outputs": [
    {
     "name": "stdout",
     "output_type": "stream",
     "text": [
      "Connected successfully to vCenter at vcsrs00-vc.infra.demo.redhat.com\n",
      "VMs in the vSphere environment: roadshow-tpl-winweb01, winweb01, database, winweb02, haproxy, rhel86-tpl, rhel9-tpl, roadshow-tpl-database, rhel93-tpl, roadshow-tpl-winweb02\n"
     ]
    }
   ],
   "source": [
    "from utils.vsphere.vsphere_utils import (\n",
    "    get_all_vms,\n",
    "    connect_to_vsphere,\n",
    "    disconnect_from_vsphere,\n",
    ")\n",
    "\n",
    "si = None\n",
    "try:\n",
    "    # Connect to vSphere\n",
    "    si, content = connect_to_vsphere(\n",
    "        host=vsphere_config[\"host\"],\n",
    "        user=vsphere_config[\"username\"],\n",
    "        pwd=vsphere_config[\"password\"],\n",
    "    )\n",
    "\n",
    "    vms, vm_names = get_all_vms(si, content)\n",
    "\n",
    "except Exception as e:\n",
    "    print(f\"Failed to list vms. {str(e)}\")\n",
    "\n",
    "finally:\n",
    "    if si:\n",
    "        disconnect_from_vsphere(si)"
   ]
  },
  {
   "cell_type": "markdown",
   "metadata": {},
   "source": [
    "## 3. Configuring a Simple Model\n",
    "\n",
    "In this section, we configure the machine learning model that our agent will use to process tasks. The `ModelService` class manages the interaction with the model (in this case, \"llama3.1:8b-instruct-fp16\"), allowing the agent to handle tasks such as listing VMs and retrieving details.\n",
    "\n",
    "### Model Configuration\n",
    "\n",
    "We initialize the `ModelService` with a specific model configuration, including parameters such as model endpoint, temperature (for controlling randomness), and others. This step enables our agent to perform model-based tasks using the provided configuration.\n"
   ]
  },
  {
   "cell_type": "code",
   "execution_count": 25,
   "metadata": {},
   "outputs": [],
   "source": [
    "from services.model_service import ModelService\n",
    "\n",
    "# Initialize the service with the model configuration\n",
    "ollama_service = ModelService(model=\"llama3.1:8b-instruct-fp16\")"
   ]
  },
  {
   "cell_type": "markdown",
   "metadata": {},
   "source": [
    "## 4. Custom Tools\n",
    "\n",
    "This section explains how we integrate custom tools into the agent’s workflow. These tools allow the agent to perform specific tasks like listing VMs or retrieving their details from the vSphere infrastructure. We use the `@tool` decorator from `langchain` to define tools that will interact with vSphere.\n",
    "\n",
    "### Tool: `list_vms`\n",
    "\n",
    "This tool retrieves a list of all available virtual machines (VMs) from vSphere. It connects to the vSphere API, fetches VM data, and returns a list of VM names. If the process fails, it returns an error message.\n",
    "\n",
    "### Tool: `retrieve_vm_details`\n",
    "\n",
    "This tool retrieves detailed information about a specific VM by its name, such as its operating system, resource allocation, and network configuration. The tool connects to the vSphere API, finds the specified VM, and fetches its details. If the VM is not found or there’s an issue, it returns an error message.\n"
   ]
  },
  {
   "cell_type": "code",
   "execution_count": 26,
   "metadata": {},
   "outputs": [],
   "source": [
    "from langchain.tools import tool\n",
    "from typing import Union, List, Dict\n",
    "from utils.vsphere.vsphere_utils import (\n",
    "    get_all_vms,\n",
    "    connect_to_vsphere,\n",
    "    disconnect_from_vsphere,\n",
    "    get_vm_details,\n",
    "    get_vm_by_name,\n",
    ")\n",
    "\n",
    "\n",
    "@tool(parse_docstring=True)\n",
    "def list_vms() -> Union[List[str], str]:\n",
    "    \"\"\"\n",
    "    A wrapper around a vSphere utility for listing all available virtual machines (VMs). Useful for retrieving a list of VMs from the connected vSphere environment.\n",
    "\n",
    "    Returns:\n",
    "        vms: A list of VM names or an error message if the operation fails.\n",
    "    \"\"\"\n",
    "    si = None\n",
    "    try:\n",
    "        # Connect to vSphere\n",
    "        si, content = connect_to_vsphere(\n",
    "            host=vsphere_config[\"host\"],\n",
    "            user=vsphere_config[\"username\"],\n",
    "            pwd=vsphere_config[\"password\"],\n",
    "        )\n",
    "\n",
    "        vms, vm_names = get_all_vms(si, content)\n",
    "        return vm_names\n",
    "\n",
    "    except Exception as e:\n",
    "        return f\"Failed to list vms. {str(e)}\"\n",
    "\n",
    "    finally:\n",
    "        if si:\n",
    "            disconnect_from_vsphere(si)\n",
    "\n",
    "\n",
    "@tool(parse_docstring=True)\n",
    "def retrieve_vm_details(vm_name: str) -> Union[Dict[str, Union[str, int, list]], str]:\n",
    "    \"\"\"\n",
    "    A wrapper around a vSphere utility for extracting detailed information about a specific virtual machine (VM). Useful for retrieving the VM's operating system, resource allocations, and network configurations based on the provided VM name.\n",
    "\n",
    "    Args:\n",
    "        vm_name: The name of the virtual machine to retrieve details for.\n",
    "\n",
    "    Returns:\n",
    "        vm_details: A dictionary containing VM details or an error message if the operation fails or the VM is not found.\n",
    "    \"\"\"\n",
    "    si = None\n",
    "    try:\n",
    "        # Connect to vSphere\n",
    "        si, content = connect_to_vsphere(\n",
    "            host=vsphere_config[\"host\"],\n",
    "            user=vsphere_config[\"username\"],\n",
    "            pwd=vsphere_config[\"password\"],\n",
    "        )\n",
    "\n",
    "        # Find the VM by name\n",
    "        vm = get_vm_by_name(content, vm_name)\n",
    "\n",
    "        if not vm:\n",
    "            return f\"VM '{vm_name}' not found.\"\n",
    "\n",
    "        # Get detailed information about the found VM\n",
    "        vm_details = get_vm_details(vm)\n",
    "        return vm_details\n",
    "\n",
    "    except Exception as e:\n",
    "        return f\"Failed to retrieve details for VM '{vm_name}': {str(e)}\"\n",
    "\n",
    "    finally:\n",
    "        if si:\n",
    "            disconnect_from_vsphere(si)\n"
   ]
  },
  {
   "cell_type": "code",
   "execution_count": 27,
   "metadata": {},
   "outputs": [
    {
     "data": {
      "text/plain": [
       "\"list_vms() -> Union[List[str], str] - A wrapper around a vSphere utility for listing all available virtual machines (VMs). Useful for retrieving a list of VMs from the connected vSphere environment., args: {{}}\\nretrieve_vm_details(vm_name: str) -> Union[Dict[str, Union[str, int, list]], str] - A wrapper around a vSphere utility for extracting detailed information about a specific virtual machine (VM). Useful for retrieving the VM's operating system, resource allocations, and network configurations based on the provided VM name., args: {{'vm_name': {{'title': 'Vm Name', 'description': 'The name of the virtual machine to retrieve details for.', 'type': 'string'}}}}\""
      ]
     },
     "execution_count": 27,
     "metadata": {},
     "output_type": "execute_result"
    }
   ],
   "source": [
    "from utils.general.tools import get_tools_name, get_tools_description\n",
    "\n",
    "tools = [list_vms, retrieve_vm_details]\n",
    "\n",
    "tools_name = get_tools_name(tools)\n",
    "tools_description = get_tools_description(tools)\n",
    "\n",
    "tools_description"
   ]
  },
  {
   "cell_type": "markdown",
   "metadata": {},
   "source": [
    "## 5. Workflow Graph Setup\n",
    "\n",
    "### Node: `react_node_function`\n",
    "\n",
    "This function handles the execution of tasks by the ReAct agent. It takes the current state of the agent and processes the user request using the available tools (like listing VMs or retrieving details). The response from the ReAct agent is returned as the output.\n"
   ]
  },
  {
   "cell_type": "code",
   "execution_count": 28,
   "metadata": {},
   "outputs": [],
   "source": [
    "from state.agent_graph import AgentGraphState\n",
    "from agent.react_agent import ReactAgent\n",
    "\n",
    "def react_node_function(state: AgentGraphState):\n",
    "    react_agent = ReactAgent(\n",
    "        state=state,\n",
    "        role=\"REACT_AGENT\",\n",
    "        tools=tools,\n",
    "        ollama_service=ollama_service,\n",
    "    )\n",
    "\n",
    "    return react_agent.react(user_request=state[\"input\"])"
   ]
  },
  {
   "cell_type": "markdown",
   "metadata": {},
   "source": [
    "### State Graph\n",
    "\n",
    "In this step, we define a `StateGraph` using the `AgentGraphState`. The graph determines the flow of tasks through various agent nodes, using an AI-driven ReAct agent to process tasks based on the inputs it receives."
   ]
  },
  {
   "cell_type": "code",
   "execution_count": 29,
   "metadata": {},
   "outputs": [],
   "source": [
    "from langgraph.graph import StateGraph, START, END\n",
    "\n",
    "\n",
    "def create_graph() -> StateGraph:\n",
    "    \"\"\"\n",
    "    Create the state graph by defining nodes and edges.\n",
    "\n",
    "    Returns:\n",
    "    - StateGraph: The compiled state graph ready for execution.\n",
    "    \"\"\"\n",
    "    graph = StateGraph(AgentGraphState)\n",
    "\n",
    "    # Add nodes\n",
    "    graph.add_node(\"react_agent\", react_node_function)\n",
    "\n",
    "    # Define the flow of the graph\n",
    "    graph.add_edge(START, \"react_agent\")\n",
    "    graph.add_edge(\"react_agent\", END)\n",
    "\n",
    "    return graph"
   ]
  },
  {
   "cell_type": "markdown",
   "metadata": {},
   "source": [
    "### Initializing Sqlite Persistence for Graph State\n",
    "\n",
    "In this step, we set up persistence for the agent's state using SQLite. This allows us to store the state in an SQLite database, ensuring that the workflow’s context is preserved even after multiple interactions. The `SqliteSaver` class handles the saving and retrieval of this state."
   ]
  },
  {
   "cell_type": "code",
   "execution_count": 30,
   "metadata": {},
   "outputs": [],
   "source": [
    "from langgraph.checkpoint.sqlite import SqliteSaver\n",
    "import sqlite3\n",
    "\n",
    "\n",
    "def from_conn_stringx(\n",
    "    cls,\n",
    "    conn_string: str,\n",
    ") -> \"SqliteSaver\":\n",
    "    return SqliteSaver(conn=sqlite3.connect(conn_string, check_same_thread=False))\n",
    "\n",
    "\n",
    "SqliteSaver.from_conn_stringx = classmethod(from_conn_stringx)\n",
    "\n",
    "memory = SqliteSaver.from_conn_stringx(\":memory:\")"
   ]
  },
  {
   "cell_type": "markdown",
   "metadata": {},
   "source": [
    "## 6. Executing the Workflow\n",
    "\n",
    "Here, we execute the workflow by compiling the state graph and defining the inputs for the agent. The agent processes user requests (such as listing all VMs) and streams the events as it progresses through the workflow. This allows us to see the state of the agent at each step.\n",
    "\n",
    "### Query 1: List all VMs\n",
    "We provide a query asking the agent to list all VMs in the vSphere environment. The agent processes the request, and the output (the list of VMs) is printed during the workflow execution.\n"
   ]
  },
  {
   "cell_type": "code",
   "execution_count": 31,
   "metadata": {},
   "outputs": [
    {
     "name": "stdout",
     "output_type": "stream",
     "text": [
      "Graph and workflow created.\n",
      "\u001b[32m<|start_header_id|>user<|end_header_id|>\n",
      "\n",
      "This is a SINGLE task: List all VMs! Just do this and nothing else! DO NOT RETRIEVE THE DETAILS! <|eot_id|>\u001b[0m\n",
      "\u001b[36m<|start_header_id|>assistant<|end_header_id|>\n",
      "\n",
      "{\n",
      "    \"thought\": \"To list all the virtual machines, I can use the 'list_vms' tool. It provides a direct method to get a list of available VMs without needing additional details.\",\n",
      "    \"action\": \"list_vms\",\n",
      "    \"action_input\": {}\n",
      "}<|eot_id|>\u001b[0m\n",
      "\u001b[35m<|python_tag|>list_vms.call({})\n",
      "<|eom_id|>\u001b[0m\n",
      "Connected successfully to vCenter at vcsrs00-vc.infra.demo.redhat.com\n",
      "VMs in the vSphere environment: roadshow-tpl-winweb01, winweb01, database, winweb02, haproxy, rhel86-tpl, rhel9-tpl, roadshow-tpl-database, rhel93-tpl, roadshow-tpl-winweb02\n",
      "\u001b[35m<|start_header_id|>ipython<|end_header_id|>\n",
      "\n",
      "['roadshow-tpl-winweb01', 'winweb01', 'database', 'winweb02', 'haproxy', 'rhel86-tpl', 'rhel9-tpl', 'roadshow-tpl-database', 'rhel93-tpl', 'roadshow-tpl-winweb02']<|eot_id|>\u001b[0m\n",
      "\u001b[33m<|start_header_id|>ipython<|end_header_id|>\n",
      "\n",
      "{\n",
      "    \"observation\": [\n",
      "        \"roadshow-tpl-winweb01\",\n",
      "        \"winweb01\",\n",
      "        \"database\",\n",
      "        \"winweb02\",\n",
      "        \"haproxy\",\n",
      "        \"rhel86-tpl\",\n",
      "        \"rhel9-tpl\",\n",
      "        \"roadshow-tpl-database\",\n",
      "        \"rhel93-tpl\",\n",
      "        \"roadshow-tpl-winweb02\"\n",
      "    ]\n",
      "}<|eot_id|>\u001b[0m\n",
      "\u001b[36m<|start_header_id|>assistant<|end_header_id|>\n",
      "\n",
      "{\n",
      "    \"answer\": \"I have the answer: ['roadshow-tpl-winweb01', 'winweb01', 'database', 'winweb02', 'haproxy', 'rhel86-tpl', 'rhel9-tpl', 'roadshow-tpl-database', 'rhel93-tpl', 'roadshow-tpl-winweb02']\"\n",
      "}<|eot_id|>\u001b[0m\n",
      "\n",
      "Event: {'react_agent': {'response': AIMessage(content=\"I have the answer: ['roadshow-tpl-winweb01', 'winweb01', 'database', 'winweb02', 'haproxy', 'rhel86-tpl', 'rhel9-tpl', 'roadshow-tpl-database', 'rhel93-tpl', 'roadshow-tpl-winweb02']\")}}\n"
     ]
    }
   ],
   "source": [
    "# Create the graph and compile the workflow\n",
    "graph = create_graph()\n",
    "workflow = graph.compile(checkpointer=memory)\n",
    "print(\"Graph and workflow created.\")\n",
    "\n",
    "# Define workflow parameters\n",
    "iterations = 10\n",
    "verbose = True\n",
    "config = {\"configurable\": {\"thread_id\": \"1\"}}\n",
    "\n",
    "query = \"This is a SINGLE task: List all VMs! Just do this and nothing else! DO NOT RETRIEVE THE DETAILS! \"\n",
    "dict_inputs = {\"input\": query}\n",
    "limit = {\"recursion_limit\": iterations}\n",
    "\n",
    "# Execute the workflow and print state changes\n",
    "for event in workflow.stream(dict_inputs, config):\n",
    "    if verbose:\n",
    "            print(\"\\nEvent:\", event)\n",
    "    else:\n",
    "        print(\"\\n\")"
   ]
  },
  {
   "cell_type": "markdown",
   "metadata": {},
   "source": [
    "### Saving the Agent's Output\n",
    "\n",
    "After the agent completes its task (e.g., listing VMs), we save the output to a JSON file for future reference or analysis. We use the `save_json_to_file` function to handle this, ensuring that the output is saved in a well-formatted, pretty-printed JSON file.\n",
    "\n",
    "**Function**: `remove_prefix`\n",
    "This helper function extracts a removes the `I have the answer: ` prefix."
   ]
  },
  {
   "cell_type": "code",
   "execution_count": 32,
   "metadata": {},
   "outputs": [
    {
     "name": "stdout",
     "output_type": "stream",
     "text": [
      "{\n",
      "    \"vms\": \"['roadshow-tpl-winweb01', 'winweb01', 'database', 'winweb02', 'haproxy', 'rhel86-tpl', 'rhel9-tpl', 'roadshow-tpl-database', 'rhel93-tpl', 'roadshow-tpl-winweb02']\"\n",
      "}\n",
      "JSON saved successfully to data/json_vms_output.json\n"
     ]
    }
   ],
   "source": [
    "import json\n",
    "from utils.general.helpers import save_json_to_file, remove_prefix\n",
    "\n",
    "# Assuming workflow.get_state() returns some structured data\n",
    "state_snapshot = workflow.get_state(config)\n",
    "\n",
    "# Check if there's any response\n",
    "if state_snapshot.values[\"response\"]:\n",
    "    # Extract the list of VMs\n",
    "    extracted_list = remove_prefix(state_snapshot.values[\"response\"][-1].content)\n",
    "\n",
    "    # Create a dictionary structure for JSON\n",
    "    vms_dict = {\"vms\": extracted_list}\n",
    "    print(json.dumps(vms_dict, indent=4))\n",
    "\n",
    "    # Save the dictionary as a JSON file, pretty-printed\n",
    "    save_json_to_file(vms_dict, \"data/json_vms_output.json\")\n",
    "else:\n",
    "    print(\"There's no VM list to save!\")"
   ]
  },
  {
   "cell_type": "markdown",
   "metadata": {},
   "source": [
    "## 8. Retrieving VM Details\n",
    "\n",
    "### Query 2: Retrieve Details for a Specific VM\n",
    "In this step, we query the agent to retrieve detailed information about a specific VM by name. The agent connects to vSphere, finds the VM, and fetches its details. We use a similar workflow execution process to get and display the results.\n"
   ]
  },
  {
   "cell_type": "code",
   "execution_count": 33,
   "metadata": {},
   "outputs": [
    {
     "name": "stdout",
     "output_type": "stream",
     "text": [
      "\u001b[32m<|start_header_id|>user<|end_header_id|>\n",
      "\n",
      "This is a SINGLE task: List the details for the vm named: database! Just do this and nothing else! DO NOT RETRIEVE THE DETAILS! <|eot_id|>\u001b[0m\n",
      "\u001b[36m<|start_header_id|>assistant<|end_header_id|>\n",
      "\n",
      "{\n",
      "    \"thought\": \"To list the details of a VM, I need to use the appropriate tool.\",\n",
      "    \"action\": \"list_vms\",\n",
      "    \"action_input\": {}\n",
      "}<|eot_id|>\u001b[0m\n",
      "\u001b[35m<|python_tag|>list_vms.call({})\n",
      "<|eom_id|>\u001b[0m\n",
      "Connected successfully to vCenter at vcsrs00-vc.infra.demo.redhat.com\n",
      "VMs in the vSphere environment: roadshow-tpl-winweb01, winweb01, database, winweb02, haproxy, rhel86-tpl, rhel9-tpl, roadshow-tpl-database, rhel93-tpl, roadshow-tpl-winweb02\n",
      "\u001b[35m<|start_header_id|>ipython<|end_header_id|>\n",
      "\n",
      "['roadshow-tpl-winweb01', 'winweb01', 'database', 'winweb02', 'haproxy', 'rhel86-tpl', 'rhel9-tpl', 'roadshow-tpl-database', 'rhel93-tpl', 'roadshow-tpl-winweb02']<|eot_id|>\u001b[0m\n",
      "\u001b[33m<|start_header_id|>ipython<|end_header_id|>\n",
      "\n",
      "{\n",
      "    \"observation\": [\n",
      "        \"roadshow-tpl-winweb01\",\n",
      "        \"winweb01\",\n",
      "        \"database\",\n",
      "        \"winweb02\",\n",
      "        \"haproxy\",\n",
      "        \"rhel86-tpl\",\n",
      "        \"rhel9-tpl\",\n",
      "        \"roadshow-tpl-database\",\n",
      "        \"rhel93-tpl\",\n",
      "        \"roadshow-tpl-winweb02\"\n",
      "    ]\n",
      "}<|eot_id|>\u001b[0m\n",
      "\u001b[36m<|start_header_id|>assistant<|end_header_id|>\n",
      "\n",
      "{\n",
      "    \"thought\": \"Now that I have the list of VMs, I need to use another tool to get the details of the specific VM named 'database'.\",\n",
      "    \"action\": \"retrieve_vm_details\",\n",
      "    \"action_input\": {\n",
      "        \"vm_name\": \"database\"\n",
      "    }\n",
      "}<|eot_id|>\u001b[0m\n",
      "\u001b[35m<|python_tag|>retrieve_vm_details.call({'vm_name': 'database'})\n",
      "<|eom_id|>\u001b[0m\n",
      "Connected successfully to vCenter at vcsrs00-vc.infra.demo.redhat.com\n",
      "\u001b[35m<|start_header_id|>ipython<|end_header_id|>\n",
      "\n",
      "{'name': 'database', 'operating_system': 'CentOS 8 (64-bit)', 'cpu': 1, 'memory_mb': 2048, 'disks': [{'label': 'Hard disk 1', 'capacity_gb': 7.0}], 'networks': [], 'power_state': 'poweredOff', 'connection_state': 'connected', 'overall_status': 'green'}<|eot_id|>\u001b[0m\n",
      "\u001b[33m<|start_header_id|>ipython<|end_header_id|>\n",
      "\n",
      "{\n",
      "    \"observation\": {\n",
      "        \"name\": \"database\",\n",
      "        \"operating_system\": \"CentOS 8 (64-bit)\",\n",
      "        \"cpu\": 1,\n",
      "        \"memory_mb\": 2048,\n",
      "        \"disks\": [\n",
      "            {\n",
      "                \"label\": \"Hard disk 1\",\n",
      "                \"capacity_gb\": 7.0\n",
      "            }\n",
      "        ],\n",
      "        \"networks\": [],\n",
      "        \"power_state\": \"poweredOff\",\n",
      "        \"connection_state\": \"connected\",\n",
      "        \"overall_status\": \"green\"\n",
      "    }\n",
      "}<|eot_id|>\u001b[0m\n",
      "\u001b[36m<|start_header_id|>assistant<|end_header_id|>\n",
      "\n",
      "{\n",
      "    \"answer\": \"I have the answer: {\\n        \\\"name\\\": \\\"database\\\",\\n        \\\"operating_system\\\": \\\"CentOS 8 (64-bit)\\\",\\n        \\\"cpu\\\": 1,\\n        \\\"memory_mb\\\": 2048,\\n        \\\"disks\\\": [\\n            {\\n                \\\"label\\\": \\\"Hard disk 1\\\",\\n                \\\"capacity_gb\\\": 7.0\\n            }\\n        ],\\n        \\\"networks\\\": [],\\n        \\\"power_state\\\": \\\"poweredOff\\\",\\n        \\\"connection_state\\\": \\\"connected\\\",\\n        \\\"overall_status\\\": \\\"green\\\"\\n    }.\"\n",
      "}<|eot_id|>\u001b[0m\n",
      "\n",
      "Event: {'react_agent': {'response': AIMessage(content='I have the answer: {\\n        \"name\": \"database\",\\n        \"operating_system\": \"CentOS 8 (64-bit)\",\\n        \"cpu\": 1,\\n        \"memory_mb\": 2048,\\n        \"disks\": [\\n            {\\n                \"label\": \"Hard disk 1\",\\n                \"capacity_gb\": 7.0\\n            }\\n        ],\\n        \"networks\": [],\\n        \"power_state\": \"poweredOff\",\\n        \"connection_state\": \"connected\",\\n        \"overall_status\": \"green\"\\n    }.')}}\n"
     ]
    }
   ],
   "source": [
    "vm_name = \"database\"\n",
    "query = f\"This is a SINGLE task: List the details for the vm named: {vm_name}! Just do this and nothing else! DO NOT RETRIEVE THE DETAILS! \"\n",
    "dict_inputs = {\"input\": query}\n",
    "limit = {\"recursion_limit\": iterations}\n",
    "\n",
    "# Execute the workflow and print state changes\n",
    "for event in workflow.stream(dict_inputs, config):\n",
    "    if verbose:\n",
    "        print(\"\\nEvent:\", event)\n",
    "    else:\n",
    "        print(\"\\n\")"
   ]
  },
  {
   "cell_type": "markdown",
   "metadata": {},
   "source": [
    "### Saving the Agent's Output\n",
    "\n",
    "After the agent completes its task (e.g., listing VMs), we save the output to a JSON file for future reference or analysis. We use the `save_json_to_file` function to handle this, ensuring that the output is saved in a well-formatted, pretty-printed JSON file.\n",
    "\n",
    "**Function**: `remove_prefix`\n",
    "This helper function extracts a removes the `I have the answer: ` prefix."
   ]
  },
  {
   "cell_type": "code",
   "execution_count": 34,
   "metadata": {},
   "outputs": [
    {
     "name": "stdout",
     "output_type": "stream",
     "text": [
      "{\n",
      "    \"name\": \"database\",\n",
      "    \"operating_system\": \"CentOS 8 (64-bit)\",\n",
      "    \"cpu\": 1,\n",
      "    \"memory_mb\": 2048,\n",
      "    \"disks\": [\n",
      "        {\n",
      "            \"label\": \"Hard disk 1\",\n",
      "            \"capacity_gb\": 7.0\n",
      "        }\n",
      "    ],\n",
      "    \"networks\": [],\n",
      "    \"power_state\": \"poweredOff\",\n",
      "    \"connection_state\": \"connected\",\n",
      "    \"overall_status\": \"green\"\n",
      "}\n",
      "JSON saved successfully to data/json_database_output.json\n"
     ]
    }
   ],
   "source": [
    "# Assuming workflow.get_state() returns some structured data\n",
    "state_snapshot = workflow.get_state(config)\n",
    "\n",
    "# Check if there's any response\n",
    "if state_snapshot.values[\"response\"]:\n",
    "    # Extract the list of VMs\n",
    "    extracted_json_string = remove_prefix(state_snapshot.values[\"response\"][-1].content)\n",
    "    cleaned_content = extracted_json_string.strip().rstrip(\n",
    "        \".\"\n",
    "    )  # Removing trailing period\n",
    "\n",
    "    extracted_json = json.loads(cleaned_content)\n",
    "    print(json.dumps(extracted_json, indent=4))\n",
    "\n",
    "    # Save the dictionary as a JSON file, pretty-printed\n",
    "    save_json_to_file(extracted_list, f\"data/json_{vm_name}_output.json\")\n",
    "else:\n",
    "    print(\"There's no VM list to save!\")"
   ]
  },
  {
   "cell_type": "markdown",
   "metadata": {},
   "source": [
    "## Conclusion\n",
    "\n",
    "This notebook demonstrates how to build an AI-powered agent that interacts with a vSphere environment, retrieves VM information, and processes tasks using a machine learning model. The agent can perform custom tasks based on defined tools and persist its state using SQLite, making it adaptable for complex workflows in real-world environments.\n"
   ]
  }
 ],
 "metadata": {
  "kernelspec": {
   "display_name": "Python 3",
   "language": "python",
   "name": "python3"
  },
  "language_info": {
   "codemirror_mode": {
    "name": "ipython",
    "version": 3
   },
   "file_extension": ".py",
   "mimetype": "text/x-python",
   "name": "python",
   "nbconvert_exporter": "python",
   "pygments_lexer": "ipython3",
   "version": "3.11.9"
  }
 },
 "nbformat": 4,
 "nbformat_minor": 2
}
