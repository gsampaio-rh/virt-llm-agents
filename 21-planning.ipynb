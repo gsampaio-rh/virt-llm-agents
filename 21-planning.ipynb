{
 "cells": [
  {
   "cell_type": "markdown",
   "metadata": {},
   "source": [
    "# 7. Building a Project Manager (PM) Agent for VM Migration in Python\n",
    "\n",
    "In this notebook, you will learn how to build and deploy a Project Manager (PM) agent designed to manage the execution of a Virtual Machine (VM) migration plan. This agent will coordinate various tasks, monitor progress, and dynamically adapt the plan based on feedback from different engineering agents. By the end of this notebook, you will understand how to:\n",
    "\n",
    "- Set up and configure a model to support the PM agent's decision-making process.\n",
    "- Define and manage the state for the PM agent to track task progress and dependencies.\n",
    "- Implement and customize the PM agent to handle specific responsibilities within the VM migration workflow."
   ]
  },
  {
   "cell_type": "markdown",
   "metadata": {},
   "source": [
    "## 1. Setting up the Environment\n",
    "\n",
    "Before we can communicate with the LLM, let’s install any required libraries and ensure our environment is ready."
   ]
  },
  {
   "cell_type": "code",
   "execution_count": 60,
   "metadata": {},
   "outputs": [
    {
     "name": "stdout",
     "output_type": "stream",
     "text": [
      "Requirement already satisfied: requests in ./.conda/lib/python3.11/site-packages (2.32.3)\n",
      "Requirement already satisfied: jsonschema in ./.conda/lib/python3.11/site-packages (4.23.0)\n",
      "Requirement already satisfied: tenacity in ./.conda/lib/python3.11/site-packages (8.5.0)\n",
      "Requirement already satisfied: charset-normalizer<4,>=2 in ./.conda/lib/python3.11/site-packages (from requests) (3.3.2)\n",
      "Requirement already satisfied: idna<4,>=2.5 in ./.conda/lib/python3.11/site-packages (from requests) (3.8)\n",
      "Requirement already satisfied: urllib3<3,>=1.21.1 in ./.conda/lib/python3.11/site-packages (from requests) (2.2.2)\n",
      "Requirement already satisfied: certifi>=2017.4.17 in ./.conda/lib/python3.11/site-packages (from requests) (2024.8.30)\n",
      "Requirement already satisfied: attrs>=22.2.0 in ./.conda/lib/python3.11/site-packages (from jsonschema) (24.2.0)\n",
      "Requirement already satisfied: jsonschema-specifications>=2023.03.6 in ./.conda/lib/python3.11/site-packages (from jsonschema) (2023.12.1)\n",
      "Requirement already satisfied: referencing>=0.28.4 in ./.conda/lib/python3.11/site-packages (from jsonschema) (0.35.1)\n",
      "Requirement already satisfied: rpds-py>=0.7.1 in ./.conda/lib/python3.11/site-packages (from jsonschema) (0.20.0)\n",
      "Note: you may need to restart the kernel to use updated packages.\n"
     ]
    }
   ],
   "source": [
    "%pip install requests jsonschema tenacity"
   ]
  },
  {
   "cell_type": "markdown",
   "metadata": {},
   "source": [
    "These packages are used for:\n",
    "\n",
    "- **requests:** Making HTTP requests to interact with models.\n",
    "- **jsonschema:** Validating the structure of the agent's output.\n",
    "- **tenacity:** Handling retries in case of errors when communicating with the model."
   ]
  },
  {
   "cell_type": "markdown",
   "metadata": {},
   "source": [
    "### Basic Agent Data Handling\n",
    "Next, we'll introduce a simple way to handle data for our agent. In this case, we'll create a function that allows us to load and manage the agent's data. This data might include things like the agent's responsibilities, the tasks it needs to perform, and other relevant information.\n",
    "\n",
    "Let's assume the data is stored in a YAML file (a common format for configuration files), and we'll write a function to load this data:"
   ]
  },
  {
   "cell_type": "code",
   "execution_count": 61,
   "metadata": {},
   "outputs": [
    {
     "name": "stdout",
     "output_type": "stream",
     "text": [
      "Loaded agent descriptions: {'agents': [{'name': 'Planner Agent', 'role': 'Planner Agent', 'responsibilities': ['Creates a comprehensive Migration Plan based on the tutorial.', 'Identifies key steps, target VMs, and source/target providers.', 'Coordinates and structures the plan for execution by other agents.']}, {'name': 'Project Manager (PM) Agent', 'role': 'Project Manager Agent', 'responsibilities': ['Manages the breakdown of tasks for the migration process.', 'Oversees task execution and ensures agents are working in coordination.', 'Ensures timelines are followed and adjusts the plan as necessary.', 'Communicates with all agents to ensure smooth task progression and resolve bottlenecks.']}, {'name': 'vSphere Engineer Agent', 'role': 'vSphere Engineer Agent', 'responsibilities': ['Handles VM identification and configuration within the vSphere environment.', 'Identifies VMs to migrate based on the tutorial instructions.', 'Manages and configures the Migration Toolkit for Virtualization (MTV) to set up the vSphere source providers.', 'Ensures proper VM resource allocation (CPU, memory, storage) within vSphere.', 'Powers off VMs and prepares them for migration if required.', 'Verifies that the VMs in the vSphere environment are ready for migration.']}, {'name': 'OpenShift Engineer Agent', 'role': 'OpenShift Engineer Agent', 'responsibilities': ['Sets up and configures the OpenShift environment for the migrated VMs.', 'Ensures that required OpenShift projects (namespaces) are created and accessible.', 'Configures the Migration Toolkit for Virtualization (MTV) to set up OpenShift as the target provider.', 'Deploys and configures the migrated VMs in OpenShift, ensuring proper integration with storage, networking, and compute resources.', 'Verifies that the OpenShift environment is correctly configured and ready to host migrated VMs.', 'Provides troubleshooting and remediation if issues arise during the setup.', 'Coordinates with the Networking Agent to ensure OpenShift routes, services, and load balancers are configured for migrated applications.']}, {'name': 'Reviewer Agent', 'role': 'Reviewer Agent', 'responsibilities': ['Validates the successful migration of VMs to the target environment.', 'Ensures the application and VMs are functioning correctly post-migration.', 'Checks logs, network settings, and storage allocations for correctness.', 'Provides a final report on the migration’s success.']}]}\n"
     ]
    }
   ],
   "source": [
    "import yaml\n",
    "from typing import Dict, Any\n",
    "\n",
    "\n",
    "def load_agent_descriptions(description_file: str) -> Dict[str, Any]:\n",
    "    \"\"\"\n",
    "    Load the agent descriptions from a YAML file.\n",
    "    \"\"\"\n",
    "    try:\n",
    "        with open(description_file, \"r\") as file:\n",
    "            return yaml.safe_load(file)\n",
    "    except FileNotFoundError:\n",
    "        raise FileNotFoundError(f\"Description file '{description_file}' not found.\")\n",
    "\n",
    "\n",
    "# Example usage:\n",
    "agents_description = load_agent_descriptions(\"agents.yaml\")\n",
    "print(\"Loaded agent descriptions:\", agents_description)"
   ]
  },
  {
   "cell_type": "markdown",
   "metadata": {},
   "source": [
    "## 2. Configuring a Simple Model\n",
    "\n",
    "In this section, we configure the machine learning model that our agent will use to process tasks. The `ModelService` class manages the interaction with the model (in this case, \"llama3.1:8b-instruct-fp16\"), allowing the agent to handle tasks such as listing VMs and retrieving details.\n",
    "\n",
    "### Model Configuration\n",
    "\n",
    "We initialize the `ModelService` with a specific model configuration, including parameters such as model endpoint, temperature (for controlling randomness), and others. This step enables our agent to perform model-based tasks using the provided configuration."
   ]
  },
  {
   "cell_type": "code",
   "execution_count": 62,
   "metadata": {},
   "outputs": [],
   "source": [
    "from services.model_service import ModelService\n",
    "\n",
    "# Initialize the service with the model configuration\n",
    "ollama_service = ModelService(model=\"llama3.1:latest\")"
   ]
  },
  {
   "cell_type": "markdown",
   "metadata": {},
   "source": [
    "## 3. System Prompt for the PM Agent\n",
    "\n",
    "When the PM agent receives a query, the system prompt shapes how it processes the input and generates its output. This includes breaking down tasks, assigning them to the correct agents, and handling feedback—all within the structure provided by the prompt."
   ]
  },
  {
   "cell_type": "code",
   "execution_count": 63,
   "metadata": {},
   "outputs": [],
   "source": [
    "DEFAULT_SYS_PM_PROMPT = \"\"\"\n",
    "system\n",
    "\n",
    "Environment: ipython  \n",
    "Cutting Knowledge Date: December 2023  \n",
    "Today Date: {datetime}  \n",
    "\n",
    "You are the **Project Manager (PM) Agent** responsible for transforming the **Migration Plan Document (MPD)** into an actionable execution plan. Your mission is to ensure the smooth execution of migration tasks by coordinating agents (OCP Engineer, vSphere Engineer, Cleanup) and monitoring progress from start to finish.\n",
    "\n",
    "---\n",
    "\n",
    "### Feedback Handling:\n",
    "If any task encounters issues or feedback, adapt the execution plan dynamically to accommodate the changes. Ensure that all agents are informed accordingly and that tasks are adjusted based on feedback. Here is the feedback received:\n",
    "Feedback:\n",
    "\n",
    "{feedback}\n",
    "\n",
    "---\n",
    "\n",
    "### Agents Description:\n",
    "{agents_description}\n",
    "\n",
    "\n",
    "---\n",
    "\n",
    "### Guidelines:\n",
    "\n",
    "1. **Task Status Management:** Monitor feedback from agents (e.g., OCP Engineer, vSphere Engineer) and update the status of existing tasks. Only create new tasks if explicitly required by new information or feedback.\n",
    "2. **Transform MPD into Tasks:** Break down the MPD into clear, actionable tasks with unique IDs, names, descriptions, assigned agents, dependencies, and acceptance criteria.\n",
    "3. **Assign Agents:** Assign each task to the correct agent based on the task’s requirements and the agents’ roles.\n",
    "4. **Track Status:** Continuously monitor task progress and update task statuses as `\"pending\"`, `\"in_progress\"`, `\"completed\"`, or `\"failed\"`.\n",
    "5. **Handle Dependencies:** Ensure that tasks only begin after all their dependencies are completed.\n",
    "6. **Facilitate Communication:** Ensure smooth communication between agents to resolve task dependencies or blockers.\n",
    "7. **Define Acceptance Criteria:** Ensure each task has clear acceptance criteria, and update task statuses based on the completion of those criteria.\n",
    "\n",
    "---\n",
    "\n",
    "### Output Format (Task Structure):\n",
    "\n",
    "Your response should return a task list in the following format. This task list is central to ensuring that all migration tasks are tracked and executed correctly:\n",
    "\n",
    "{{\n",
    "    \"tasks\": [\n",
    "        {{\n",
    "            \"task_id\": \"string\",  # Unique identifier for the task.\n",
    "            \"task_name\": \"string\",  # The short name of the task (e.g., \"Create Migration Plan\").\n",
    "            \"task_description\": \"string\",  # A detailed description of the task's actions.\n",
    "            \"agent\": \"string\",  # The agent responsible for executing the task (must be one of: \"ocp_engineer\", \"vsphere_engineer\", \"cleanup\").\n",
    "            \"status\": \"pending\",  # The current status of the task (\"pending\", \"in_progress\", \"completed\", \"failed\").\n",
    "            \"dependencies\": [\"array\"],  # Task IDs that must be completed before this task starts.\n",
    "            \"acceptance_criteria\": \"string\",  # The criteria for determining task success (e.g., \"Migration plan created and validated\").\n",
    "            \"tool_to_use\": \"string or null\",  # The tool that the agent should use to execute the task. This may be null if no tool is required.\n",
    "            \"provided_inputs\": {{\n",
    "                \"key\": \"string | array | null\"  # Input data needed for this task, such as VM names or configurations.\n",
    "            }}\n",
    "        }}\n",
    "    ]\n",
    "}}\n",
    "\n",
    "---\n",
    "\n",
    "### Example of a Task List:\n",
    "\n",
    "{{\n",
    "    \"tasks\": [\n",
    "        {{\n",
    "            \"task_id\": \"task_001\",\n",
    "            \"task_name\": \"Retrieve VM Details (Database)\",\n",
    "            \"task_description\": \"The vSphere engineer will retrieve the details of the virtual machine named 'database'.\",\n",
    "            \"agent\": \"vsphere_engineer\",\n",
    "            \"status\": \"pending\",\n",
    "            \"dependencies\": [],\n",
    "            \"acceptance_criteria\": \"VM details retrieved successfully.\",\n",
    "            \"tool_to_use\": \"retrieve_vm_details_tool\"\n",
    "        }},\n",
    "        {{\n",
    "            \"task_id\": \"task_002\",\n",
    "            \"task_name\": \"Create Migration Plan\",\n",
    "            \"task_description\": \"Create a migration plan for the specified virtual machines.\",\n",
    "            \"agent\": \"ocp_engineer\",\n",
    "            \"status\": \"pending\",\n",
    "            \"dependencies\": [],\n",
    "            \"acceptance_criteria\": \"Migration plan created and validated.\",\n",
    "            \"tool_to_use\": \"create_migration_plan_tool\",\n",
    "            \"provided_inputs\": {{\n",
    "                \"vm_names\": [\"vm1\", \"vm2\", \"vm3\"],\n",
    "                \"plan_name\": \"database-plan\"\n",
    "            }}\n",
    "        }},\n",
    "        {{\n",
    "            \"task_id\": \"task_003\",\n",
    "            \"task_name\": \"Start Migration\",\n",
    "            \"task_description\": \"Start the migration process using the migration plan.\",\n",
    "            \"agent\": \"ocp_engineer\",\n",
    "            \"status\": \"pending\",\n",
    "            \"dependencies\": [\"task_001\"],\n",
    "            \"acceptance_criteria\": \"Migration process successfully started.\",\n",
    "            \"tool_to_use\": \"start_migration_tool\",\n",
    "            \"provided_inputs\": {{\n",
    "                \"plan_name\": \"database-plan\"\n",
    "            }}\n",
    "        }}\n",
    "    ]\n",
    "}}\n",
    "\n",
    "\n",
    "---\n",
    "\n",
    "Remember:\n",
    "- **Do not change the original task plan** unless explicitly required by new information, dependencies, or feedback.\n",
    "- Always prioritize updating existing tasks based on feedback before creating new tasks.\n",
    "- Ensure that the original tasks are followed as closely as possible to avoid unnecessary changes in the execution plan.\n",
    "- Ensure tasks are marked as complete once their acceptance criteria are met.\n",
    "- Maintain the JSON format and ensure all fields are filled out correctly, including the `tool_to_use` field with the appropriate tool name.\n",
    "\"\"\""
   ]
  },
  {
   "cell_type": "code",
   "execution_count": 64,
   "metadata": {},
   "outputs": [],
   "source": [
    "from utils.general.helpers import get_current_utc_datetime\n",
    "\n",
    "\n",
    "def write_pm_prompt(\n",
    "    feedback_value: str = \"\",\n",
    "    agents_description: str = agents_description,\n",
    ") -> str:\n",
    "    return DEFAULT_SYS_PM_PROMPT.format(\n",
    "        agents_description=agents_description,\n",
    "        feedback=feedback_value,\n",
    "        datetime=get_current_utc_datetime(),\n",
    "    )"
   ]
  },
  {
   "cell_type": "markdown",
   "metadata": {},
   "source": [
    "## 4. Defining the PM Agent's State and Role\n",
    "\n",
    "The **AgentGraphState** class and the **Agent** class are integral parts of the PM agent's structure. The agent's state keeps track of messages and feedback, which are crucial for managing the progress of tasks and addressing issues dynamically as they arise during the VM migration.\n",
    "\n",
    "### Agent State with `AgentGraphState`\n",
    "We start by defining the **AgentGraphState** class. This class inherits from `TypedDict`, which allows us to define typed dictionaries in Python. The dictionary contains two key properties:\n",
    "- `response`: A list of messages that store the responses generated by the PM agent.\n",
    "- `feedback`: A list of messages related to the feedback received from agents.\n",
    "\n",
    "Both of these properties are annotated with `add_messages`, a utility that helps manage message flows in the agent's graph of communications."
   ]
  },
  {
   "cell_type": "code",
   "execution_count": 65,
   "metadata": {},
   "outputs": [],
   "source": [
    "from langgraph.graph.message import add_messages\n",
    "from typing import Annotated, TypedDict, Any\n",
    "\n",
    "class AgentGraphState(TypedDict):\n",
    "    response: Annotated[list, add_messages]\n",
    "    feedback: Annotated[list, add_messages]\n"
   ]
  },
  {
   "cell_type": "markdown",
   "metadata": {},
   "source": [
    "### Creating the PM Agent\n",
    "\n",
    "Next, we instantiate the **PM Agent** by creating an instance of the **Agent** class. This agent is responsible for managing the VM migration tasks, coordinating the engineers, and processing the feedback.\n",
    "\n",
    "- The `state` argument is initialized with the **AgentGraphState** dictionary to keep track of the agent’s responses and feedback.\n",
    "- The `role` argument is set to `\"PM_AGENT\"`, defining this agent's role as the project manager in the system.\n",
    "- The `ollama_service` is passed in to allow the PM agent to interact with the underlying machine learning model.\n"
   ]
  },
  {
   "cell_type": "code",
   "execution_count": 66,
   "metadata": {},
   "outputs": [],
   "source": [
    "from agent.base_agent import Agent\n",
    "\n",
    "state = AgentGraphState()\n",
    "\n",
    "pm_agent = Agent(\n",
    "    state=state,\n",
    "    role=\"PM_AGENT\",\n",
    "    ollama_service=ollama_service,\n",
    "    )"
   ]
  },
  {
   "cell_type": "markdown",
   "metadata": {},
   "source": [
    "With the PM agent now set up, it will be able to process tasks, handle feedback, and communicate with other agents (like the OCP and vSphere engineers) effectively as part of the migration plan execution."
   ]
  },
  {
   "cell_type": "markdown",
   "metadata": {},
   "source": [
    "## 5. Handling User Requests and Generating a Migration Plan\n",
    "\n",
    "In this section, we simulate a user request for a series of tasks that will be executed by the **PM Agent**. The tasks involve a vSphere engineer and an OCP engineer working together to retrieve virtual machine (VM) details, create a migration plan, and finally start the migration plan.\n",
    "\n",
    "### Simulating a User Request\n",
    "We define a `user_req` string, which details the tasks that the user wants to execute. The user specifies three tasks:\n",
    "\n",
    "1. The vSphere engineer will retrieve the details of a VM called \"database\".\n",
    "2. The OCP engineer will create a migration plan for the \"database\" VM, with the plan named \"database-plan\".\n",
    "3. The OCP engineer will start the migration plan, \"database-plan\".\n",
    "\n",
    "This user request is passed into the PM agent for processing.\n",
    "\n",
    "\n",
    "### Processing the User Request with the PM Agent\n",
    "\n",
    "The PM agent processes the request using the `work()` method. This method takes two arguments:\n",
    "1. **`user_request`**: The user-defined request with the tasks outlined above.\n",
    "2. **`sys_prompt`**: The system prompt generated by the **`write_pm_prompt()`** function, which sets the guidelines and agents' descriptions for the PM agent to follow.\n",
    "\n",
    "The response from the agent includes the generated task plan, which is stored in the `PM_AGENT_response` field of the response."
   ]
  },
  {
   "cell_type": "code",
   "execution_count": 67,
   "metadata": {},
   "outputs": [],
   "source": [
    "user_req = \"\"\"These are three tasks.  \n",
    "First task: The vSphere engineer will Retrieve the VM details of the vm called database. \n",
    "Don't forget the second Task: The OCP Engineer will Create a migration plan (vm_name: database) called 'database-plan'. \n",
    "Third task: The Ocp engineer will start the 'database-plan'. \n",
    "Just do this. Treat this as THREE different tasks.\"\"\"\n",
    "\n",
    "response =pm_agent.work(user_request=user_req, sys_prompt=write_pm_prompt())"
   ]
  },
  {
   "cell_type": "markdown",
   "metadata": {},
   "source": [
    "#### Viewing the Generated Migration Plan\n",
    "\n",
    "The generated task plan is extracted from the `response` object, and its content is printed to provide insight into the tasks assigned to each agent."
   ]
  },
  {
   "cell_type": "code",
   "execution_count": 68,
   "metadata": {},
   "outputs": [
    {
     "name": "stdout",
     "output_type": "stream",
     "text": [
      "{\n",
      "    \"tasks\": [\n",
      "        {\n",
      "            \"task_id\": \"task_001\",\n",
      "            \"task_name\": \"Retrieve VM Details (Database)\",\n",
      "            \"task_description\": \"The vSphere engineer will retrieve the details of the virtual machine named 'database'.\",\n",
      "            \"agent\": \"vsphere_engineer\",\n",
      "            \"status\": \"pending\",\n",
      "            \"dependencies\": [],\n",
      "            \"acceptance_criteria\": \"VM details retrieved successfully.\",\n",
      "            \"tool_to_use\": null,\n",
      "            \"provided_inputs\": {\n",
      "                \"vm_name\": \"database\"\n",
      "            }\n",
      "        },\n",
      "        {\n",
      "            \"task_id\": \"task_002\",\n",
      "            \"task_name\": \"Create Migration Plan (Database)\",\n",
      "            \"task_description\": \"The OCP Engineer will create a migration plan for the specified virtual machine called 'database' and named it 'database-plan'.\",\n",
      "            \"agent\": \"ocp_engineer\",\n",
      "            \"status\": \"pending\",\n",
      "            \"dependencies\": [\n",
      "                \"task_001\"\n",
      "            ],\n",
      "            \"acceptance_criteria\": \"Migration plan created successfully.\",\n",
      "            \"tool_to_use\": null,\n",
      "            \"provided_inputs\": {\n",
      "                \"vm_name\": \"database\",\n",
      "                \"plan_name\": \"database-plan\"\n",
      "            }\n",
      "        },\n",
      "        {\n",
      "            \"task_id\": \"task_003\",\n",
      "            \"task_name\": \"Start Migration (Database-Plan)\",\n",
      "            \"task_description\": \"The OCP Engineer will start the migration process using the 'database-plan'.\",\n",
      "            \"agent\": \"ocp_engineer\",\n",
      "            \"status\": \"pending\",\n",
      "            \"dependencies\": [\n",
      "                \"task_002\"\n",
      "            ],\n",
      "            \"acceptance_criteria\": \"Migration process started successfully.\",\n",
      "            \"tool_to_use\": null,\n",
      "            \"provided_inputs\": {\n",
      "                \"plan_name\": \"database-plan\"\n",
      "            }\n",
      "        }\n",
      "    ]\n",
      "}\n"
     ]
    }
   ],
   "source": [
    "plan = response[\"PM_AGENT_response\"].content\n",
    "print(plan)"
   ]
  },
  {
   "cell_type": "markdown",
   "metadata": {},
   "source": [
    "## 6. Validating Agent Output\n",
    "\n",
    "To maintain the reliability and consistency of the PM agent, it's crucial to validate the output generated by the agent. In this step, we define a schema that outlines the expected structure of the tasks created by the PM agent. This schema includes fields like `task_id`, `task_name`, `task_description`, `agent`, `status`, and others, ensuring that each task is well-defined and follows a standardized format."
   ]
  },
  {
   "cell_type": "code",
   "execution_count": 69,
   "metadata": {},
   "outputs": [],
   "source": [
    "from jsonschema import validate, ValidationError\n",
    "\n",
    "# Example schema for validating the agent's output\n",
    "output_schema = {\n",
    "    \"type\": \"object\",\n",
    "    \"properties\": {\n",
    "        \"tasks\": {\n",
    "            \"type\": \"array\",\n",
    "            \"items\": {\n",
    "                \"type\": \"object\",\n",
    "                \"properties\": {\n",
    "                    \"task_id\": {\n",
    "                        \"type\": \"string\",  # Unique identifier for the task.\n",
    "                    },\n",
    "                    \"task_name\": {\n",
    "                        \"type\": \"string\",  # Short name of the task (e.g., \"Validate VMware Access\").\n",
    "                    },\n",
    "                    \"task_description\": {\n",
    "                        \"type\": \"string\",  # Detailed description of the task to be executed.\n",
    "                    },\n",
    "                    \"agent\": {\n",
    "                        \"type\": \"string\",\n",
    "                        \"enum\": [\n",
    "                            \"architect\",\n",
    "                            \"ocp_engineer\",\n",
    "                            \"vsphere_engineer\",\n",
    "                            \"networking\",\n",
    "                            \"reviewer\",\n",
    "                            \"cleanup\",\n",
    "                        ],  # Agent responsible for executing the task.\n",
    "                    },\n",
    "                    \"status\": {\n",
    "                        \"type\": \"string\",\n",
    "                        \"enum\": [\n",
    "                            \"pending\",\n",
    "                            \"in_progress\",\n",
    "                            \"completed\",\n",
    "                            \"failed\",\n",
    "                        ],  # Current status of the task.\n",
    "                    },\n",
    "                    \"dependencies\": {\n",
    "                        \"type\": \"array\",\n",
    "                        \"items\": {\n",
    "                            \"type\": \"string\",  # Task IDs that must be completed before this task can start.\n",
    "                        },\n",
    "                        \"default\": [],  # Default is an empty array if there are no dependencies.\n",
    "                    },\n",
    "                    \"acceptance_criteria\": {\n",
    "                        \"type\": \"string\",  # Criteria that must be met to consider the task successfully completed.\n",
    "                    },\n",
    "                    \"tool_to_use\": {\n",
    "                        \"type\": [\n",
    "                            \"string\",\n",
    "                            \"null\",\n",
    "                        ],  # The tool the agent should use, or null if no tool is required.\n",
    "                        \"default\": None,  # Default is None if no tool is specified.\n",
    "                    },\n",
    "                    \"provided_inputs\": {\n",
    "                        \"type\": \"object\",  # Input data needed for this task.\n",
    "                        \"additionalProperties\": {\n",
    "                            \"type\": [\"null\", \"string\", \"array\"],\n",
    "                            \"items\": {\"type\": \"string\"},\n",
    "                        },\n",
    "                        \"default\": {},  # Default is an empty object if no inputs are provided.\n",
    "                    },\n",
    "                },\n",
    "                \"required\": [\n",
    "                    \"task_id\",\n",
    "                    \"task_name\",\n",
    "                    \"task_description\",\n",
    "                    \"agent\",\n",
    "                    \"status\",\n",
    "                    \"acceptance_criteria\",\n",
    "                ],  # Dependencies, tool_to_use, and provided_inputs are optional.\n",
    "            },\n",
    "        }\n",
    "    },\n",
    "    \"required\": [\"tasks\"],\n",
    "}"
   ]
  },
  {
   "cell_type": "markdown",
   "metadata": {},
   "source": [
    "### Validation Process:\n",
    "- **Validation Function (`validate_agent_output`)**: This function checks the agent's output against the predefined schema. If the output conforms to the schema, it is marked as validated. Otherwise, it returns feedback indicating the issues, which can then be used to adjust the agent's behavior.\n",
    "\n",
    "Validating the output ensures that the tasks generated by the PM agent are actionable and correctly formatted, which is essential for the smooth execution of the VM migration plan."
   ]
  },
  {
   "cell_type": "code",
   "execution_count": 70,
   "metadata": {},
   "outputs": [],
   "source": [
    "from langchain_core.messages import SystemMessage\n",
    "\n",
    "\n",
    "def validate_agent_output(plan: str, schema: dict = output_schema):\n",
    "    \"\"\"\n",
    "    Validate the agent's output against the provided schema.\n",
    "    \"\"\"\n",
    "    json_plan = json.loads(plan)\n",
    "    try:\n",
    "        validate(instance=json_plan, schema=schema)\n",
    "        return True\n",
    "    except ValidationError as e:\n",
    "        return False"
   ]
  },
  {
   "cell_type": "code",
   "execution_count": 71,
   "metadata": {},
   "outputs": [
    {
     "name": "stdout",
     "output_type": "stream",
     "text": [
      "The plan is validated!\n",
      "JSON saved successfully to data/json_plan_output.json\n"
     ]
    }
   ],
   "source": [
    "def save_json_to_file(json_plan, filename=\"\"):\n",
    "    try:\n",
    "        # Save the content of json_plan to a file\n",
    "        with open(filename, \"w\") as file:\n",
    "            json.dump(json_plan, file, indent=4)\n",
    "        print(f\"JSON saved successfully to {filename}\")\n",
    "    except Exception as e:\n",
    "        print(f\"An error occurred while saving the file: {e}\")\n",
    "\n",
    "\n",
    "if validate_agent_output(plan, output_schema):\n",
    "    print(\"The plan is validated!\")\n",
    "    save_json_to_file(plan, \"data/json_plan_output.json\")\n",
    "else:\n",
    "    print(\"The plan is not validated!\")"
   ]
  }
 ],
 "metadata": {
  "kernelspec": {
   "display_name": "Python 3",
   "language": "python",
   "name": "python3"
  },
  "language_info": {
   "codemirror_mode": {
    "name": "ipython",
    "version": 3
   },
   "file_extension": ".py",
   "mimetype": "text/x-python",
   "name": "python",
   "nbconvert_exporter": "python",
   "pygments_lexer": "ipython3",
   "version": "3.11.9"
  }
 },
 "nbformat": 4,
 "nbformat_minor": 2
}
