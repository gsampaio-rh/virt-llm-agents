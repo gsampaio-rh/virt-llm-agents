{
 "cells": [
  {
   "cell_type": "markdown",
   "metadata": {},
   "source": [
    "# Virtualization and OpenShift Workflow Agent\n",
    "\n",
    "## Overview\n",
    "\n",
    "This notebook demonstrates how to build an AI-powered multi-agent workflow that interacts with **Virtual Machines (VMs)** and **OpenShift**. The agents process tasks such as listing VMs, retrieving VM details, and managing OpenShift migration plans using custom tools. \n",
    "\n",
    "By leveraging a machine learning model, the agents are able to process natural language instructions and execute specific tasks. The workflow is designed to be flexible, allowing different agents to collaborate through a shared state, with task data being persisted using **SQLite**."
   ]
  },
  {
   "cell_type": "markdown",
   "metadata": {},
   "source": [
    "## 1. Setup\n",
    "\n",
    "Before we begin, let's make sure your environment is set up correctly. We'll start by installing the necessary Python packages.\n",
    "\n",
    "### Installing Required Packages\n",
    "\n",
    "To get started, you'll need to install a few Python libraries. Run the following command to install them:"
   ]
  },
  {
   "cell_type": "code",
   "execution_count": null,
   "metadata": {},
   "outputs": [],
   "source": [
    "%pip install langchain langgraph langgraph-checkpoint-sqlite langchain_community requests termcolor wikipedia arxiv"
   ]
  },
  {
   "cell_type": "markdown",
   "metadata": {},
   "source": [
    "## 2. Configuring a Simple Model\n",
    "\n",
    "In this section, we configure the machine learning model that we will use to process tasks. The `ModelService` class manages the interaction with the model (in this case, \"llama3.1:8b-instruct-fp16\").\n",
    "\n",
    "### Model Configuration\n",
    "\n",
    "We initialize the `ModelService` with a specific model configuration, including parameters such as model endpoint, temperature (for controlling randomness), and others. This step enables us to perform model-based tasks using the provided configuration."
   ]
  },
  {
   "cell_type": "code",
   "execution_count": null,
   "metadata": {},
   "outputs": [],
   "source": [
    "from services.model_service import ModelService\n",
    "\n",
    "# Initialize the service with the model configuration\n",
    "ollama_service = ModelService(model=\"llama3.1:8b-instruct-fp16\")"
   ]
  },
  {
   "cell_type": "markdown",
   "metadata": {},
   "source": [
    "## 3. Defining the Shared State\n",
    "\n",
    "In any multi-agent system, it’s crucial that agents can share information and coordinate their tasks. To achieve this, we use a **shared state** — a centralized data structure that agents read from and update as they perform their respective tasks. This shared state acts as a \"memory\" that persists between agent actions, enabling collaboration across different stages of the workflow."
   ]
  },
  {
   "cell_type": "code",
   "execution_count": null,
   "metadata": {},
   "outputs": [],
   "source": [
    "from langgraph.graph.message import add_messages\n",
    "from typing import Annotated, TypedDict, Any\n",
    "\n",
    "\n",
    "class MultiAgentGraphState(TypedDict):\n",
    "    input: str\n",
    "    virt_engineer_response: Annotated[list, add_messages]\n",
    "    ocp_engineer_response: Annotated[list, add_messages]"
   ]
  },
  {
   "cell_type": "markdown",
   "metadata": {},
   "source": [
    "## 4. Setting Up Tools for the Workflow\n",
    "\n",
    "In this section, we prepare the tools that will be used by the different agents in our workflow. Each agent has a specific set of tools they use to perform their tasks. Tools can represent any reusable function or utility that an agent can use to accomplish its assigned work.\n",
    "\n",
    "We are introducing two sets of tools:\n",
    "\n",
    "1. **OpenShift Tools**: Tools related to OpenShift operations, such as creating or starting a migration plan.\n",
    "2. **vSphere Tools**: Tools for virtual machine operations, such as listing VMs or retrieving VM details.\n",
    "\n",
    "### OpenShift Tools\n",
    "\n",
    "The first set of tools we define is for OpenShift. These tools are used by the OpenShift engineer agent in the workflow. We utilize utility functions to fetch the tools' names and their descriptions, which will later be used in the workflow.\n",
    "\n",
    "- **`create_migration_plan_tool`**: This tool is responsible for creating a migration plan in OpenShift.\n",
    "- **`start_migration_plan_tool`**: This tool starts the migration plan that was created.\n",
    "\n",
    "We then use helper functions (`get_tools_name` and `get_tools_description_json`) to get the names and descriptions of the tools, which will be helpful for dynamically assigning tasks to agents later on.\n"
   ]
  },
  {
   "cell_type": "code",
   "execution_count": null,
   "metadata": {},
   "outputs": [],
   "source": [
    "import json\n",
    "from utils.general.tools import (\n",
    "    get_tools_name,\n",
    "    get_tools_description_json,\n",
    ")\n",
    "\n",
    "from tools.openshift.migration_plan import (\n",
    "    create_migration_plan_tool,\n",
    "    start_migration_plan_tool,\n",
    ")\n",
    "\n",
    "ocp_tools = [create_migration_plan_tool, start_migration_plan_tool]\n",
    "\n",
    "ocp_tools_name = get_tools_name(ocp_tools)\n",
    "ocp_tools_description_json = get_tools_description_json(ocp_tools)\n",
    "\n",
    "ocp_tools_description = json.dumps(ocp_tools_description_json, indent=4)\n",
    "\n",
    "print(ocp_tools_description)"
   ]
  },
  {
   "cell_type": "markdown",
   "metadata": {},
   "source": [
    "### vSphere Tools\n",
    "\n",
    "Similarly, we define a set of tools for managing virtual machines. These tools will be used by the virtual engineer agent in the workflow.\n",
    "\n",
    "- **`list_vms`**: This tool lists all the virtual machines available in the vSphere environment.\n",
    "- **`retrieve_vm_details`**: This tool retrieves details about a specific virtual machine.\n",
    "\n",
    "Like the OpenShift tools, we extract the names and descriptions of these tools for later use in the workflow."
   ]
  },
  {
   "cell_type": "code",
   "execution_count": null,
   "metadata": {},
   "outputs": [],
   "source": [
    "from tools.vsphere.vms import list_vms, retrieve_vm_details\n",
    "\n",
    "virt_tools = [list_vms, retrieve_vm_details]\n",
    "\n",
    "virt_tools_name = get_tools_name(virt_tools)\n",
    "virt_tools_description_json = get_tools_description_json(virt_tools)\n",
    "\n",
    "virt_tools_description = json.dumps(virt_tools_description_json, indent=4)\n",
    "\n",
    "print(virt_tools_description)"
   ]
  },
  {
   "cell_type": "markdown",
   "metadata": {},
   "source": [
    "## 5. Configuring Agent Nodes\n",
    "\n",
    "Next, we will configure the virtual engineer and OpenShift engineer agents. These agents will be responsible for performing specific tasks in the workflow by utilizing the tools we just defined.\n",
    "\n",
    "For each agent, we define:\n",
    "- A **role** (e.g., `virt_engineer` or `ocp_engineer`).\n",
    "- A set of **tools** that the agent can use to complete its tasks.\n",
    "  \n",
    "The agents will respond to the tasks dynamically, leveraging the tools to produce results."
   ]
  },
  {
   "cell_type": "code",
   "execution_count": null,
   "metadata": {},
   "outputs": [],
   "source": [
    "from agent.react_agent import ReactAgent\n",
    "\n",
    "# Process a list of tasks for the Virtual Engineer.\n",
    "def virt_eng_node_function(state: MultiAgentGraphState, tasks: list[str]):\n",
    "    virt_agent = ReactAgent(\n",
    "        state=state,\n",
    "        role=\"virt_engineer\",\n",
    "        tools=virt_tools,\n",
    "        ollama_service=ollama_service,\n",
    "    )\n",
    "\n",
    "    # Process each task and collect the responses\n",
    "    responses = []\n",
    "    for task in tasks:\n",
    "        response = virt_agent.react(user_request=task)\n",
    "        responses.append(response[\"virt_engineer_response\"].content)\n",
    "\n",
    "    return {\"virt_engineer_response\": responses}\n",
    "\n",
    "# Process a list of tasks for the OpenShift Engineer.\n",
    "def ocp_eng_node_function(state: MultiAgentGraphState, tasks: list[str]):\n",
    "    ocp_agent = ReactAgent(\n",
    "        state=state,\n",
    "        role=\"ocp_engineer\",\n",
    "        tools=ocp_tools,\n",
    "        ollama_service=ollama_service,\n",
    "    )\n",
    "\n",
    "    # Process each task and collect the responses\n",
    "    responses = []\n",
    "    for task in tasks:\n",
    "        response = ocp_agent.react(user_request=task)\n",
    "        responses.append(response[\"ocp_engineer_response\"].content)\n",
    "\n",
    "    return {\"ocp_engineer_response\": responses}"
   ]
  },
  {
   "cell_type": "markdown",
   "metadata": {},
   "source": [
    "## 6. Workflow\n",
    "\n",
    "In this section, we will finalize the workflow, integrate the agents, and run the graph. The workflow involves setting up virtual machine-related tasks for the **Virtual Engineer** and OpenShift-related tasks for the **OpenShift Engineer**. Both agents will receive lists of tasks and perform their respective operations using the tools provided. We'll use the `create_graph` function to set up the agent nodes, and `run_workflow` to execute the workflow."
   ]
  },
  {
   "cell_type": "code",
   "execution_count": null,
   "metadata": {},
   "outputs": [
    {
     "name": "stdout",
     "output_type": "stream",
     "text": [
      "\u001b[36m<|start_header_id|>assistant<|end_header_id|>\n",
      "\n",
      "{\n",
      "    \"thought\": \"To start a migration plan, we need to use the start_migration_plan_tool with the name of the migration plan and its corresponding namespace.\",\n",
      "    \"action\": \"start_migration_plan_tool\",\n",
      "    \"action_input\": {\n",
      "        \"plan_name\": \"migration-plan-tttcp\",\n",
      "        \"namespace\": \"openshift-mtv\"\n",
      "    }\n",
      "}<|eot_id|>\u001b[0m\n",
      "\u001b[35m<|python_tag|>start_migration_plan_tool.call({'plan_name': 'migration-plan-tttcp', 'namespace': 'openshift-mtv'})\n",
      "<|eom_id|>\u001b[0m\n"
     ]
    },
    {
     "name": "stderr",
     "output_type": "stream",
     "text": [
      "/Users/gsampaio/redhat/ai/virt-llm-agents/.conda/lib/python3.11/site-packages/urllib3/connectionpool.py:1099: InsecureRequestWarning: Unverified HTTPS request is being made to host 'api.rosa-tttcp.1fe1.p1.openshiftapps.com'. Adding certificate verification is strongly advised. See: https://urllib3.readthedocs.io/en/latest/advanced-usage.html#tls-warnings\n",
      "  warnings.warn(\n"
     ]
    },
    {
     "name": "stdout",
     "output_type": "stream",
     "text": [
      "OpenShift Service connected. API is healthy.\n",
      "\n",
      "1/4 Connected to Openshift...\n",
      "\n",
      "\u001b[35m<|start_header_id|>ipython<|end_header_id|>\n",
      "\n",
      "Migration plan 'migration-plan-tttcp' not found.<|eot_id|>\u001b[0m\n",
      "\u001b[33m<|start_header_id|>ipython<|end_header_id|>\n",
      "\n",
      "{\n",
      "    \"observation\": \"Migration plan 'migration-plan-tttcp' not found.\"\n",
      "}<|eot_id|>\u001b[0m\n",
      "\u001b[36m<|start_header_id|>assistant<|end_header_id|>\n",
      "\n",
      "{\n",
      "    \"answer\": \"Sorry, I cannot answer your query.\"\n",
      "}<|eot_id|>\u001b[0m\n"
     ]
    }
   ],
   "source": [
    "from state.state_graph import create_graph, run_workflow\n",
    "from memory.sqlite_saver import initialize_memory\n",
    "\n",
    "vm_name = \"database-tttcp\"\n",
    "migration_plan_name = \"migration-plan\"\n",
    "\n",
    "virt_tasks = [\n",
    "    \"This is a SINGLE task: List all VMs! Just do this and nothing else! DO NOT RETRIEVE THE DETAILS!\",\n",
    "    f\"This is a SINGLE task: List the details for the vm named: {vm_name}! Just do this and nothing else! DO NOT RETRIEVE THE DETAILS!\"\n",
    "]\n",
    "\n",
    "ocp_tasks = [\n",
    "    f\"You should execute only one task. THIS IS A SINGLE TASK: Use the create_migration_plan_tool to create a migration plan. Details: plan_name: {migration_plan_name}, vm_name:'{vm_name}'! REMEMBER: DON'T DO ANY ADDITIONAL STEP! DO NOT START OR EXECUTE THE MIGRATION YET!\",\n",
    "    f\"You should execute only one task. THIS IS A SINGLE TASK: Use the start_migration_plan_tool to start the {migration_plan_name}! REMEMBER: DON'T DO ANY ADDITIONAL STEP! DO NOT CREATE THE MIGRATION!\"\n",
    "]\n",
    "\n",
    "\n",
    "# Define a dictionary to map node names to their corresponding functions\n",
    "agent_nodes = {\n",
    "    \"virt_engineer_node\": lambda state: virt_eng_node_function(\n",
    "        state=state, tasks=virt_tasks\n",
    "    ),\n",
    "    \"ocp_engineer_node\": lambda state: ocp_eng_node_function(\n",
    "        state=state, tasks=ocp_tasks\n",
    "    ),\n",
    "}\n",
    "\n",
    "memory = initialize_memory(\":memory:\")\n",
    "\n",
    "# Step 2: Create the graph\n",
    "graph = create_graph(\n",
    "    MultiAgentGraphState,\n",
    "    agent_nodes,\n",
    ")\n",
    "\n",
    "# Step 3: Define the input query and config\n",
    "query = \"Who's the USA's President?\"\n",
    "config = {\"configurable\": {\"thread_id\": \"1\"}}\n",
    "\n",
    "# Step 4: Run the workflow\n",
    "run_workflow(\n",
    "    graph=graph,\n",
    "    input_query=query,\n",
    "    config=config,\n",
    "    memory=memory,\n",
    "    iterations=10,\n",
    "    verbose=True,\n",
    ")"
   ]
  }
 ],
 "metadata": {
  "kernelspec": {
   "display_name": "Python 3",
   "language": "python",
   "name": "python3"
  },
  "language_info": {
   "codemirror_mode": {
    "name": "ipython",
    "version": 3
   },
   "file_extension": ".py",
   "mimetype": "text/x-python",
   "name": "python",
   "nbconvert_exporter": "python",
   "pygments_lexer": "ipython3",
   "version": "3.11.9"
  }
 },
 "nbformat": 4,
 "nbformat_minor": 2
}
